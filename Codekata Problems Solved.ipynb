{
  "cells": [
    {
      "cell_type": "markdown",
      "metadata": {
        "id": "BgP5Hk4flSm6"
      },
      "source": [
        "### **Strings**"
      ]
    },
    {
      "cell_type": "markdown",
      "metadata": {
        "id": "UtIzkjBvlZFR"
      },
      "source": [
        "You are given two numbers. Your task is to multiply the two numbers and print the answer.\n",
        "\n",
        "Input Description:\n",
        "You are given two numbers ‘n’ and ‘m’.\n",
        "\n",
        "Output Description:\n",
        "Print the multiplied answer\n",
        "\n",
        "Sample Input :\n",
        "99999 99998\n",
        "Sample Output :\n",
        "9999700002"
      ]
    },
    {
      "cell_type": "code",
      "execution_count": null,
      "metadata": {
        "id": "AvSXssg9lPKR"
      },
      "outputs": [],
      "source": [
        "s=input().split()\n",
        "m,n=list(map(int,s))\n",
        "p=m*n\n",
        "print(p)"
      ]
    },
    {
      "cell_type": "markdown",
      "metadata": {
        "id": "_5lkKlLymHOi"
      },
      "source": [
        " You are given a string. You have to print “Wonder” if the string is wonderful and -1 if it is not. A wonderful string is a string,which is made up of exactly 3 different characters.\n",
        "\n",
        "Input Description:\n",
        "You are given a string\n",
        "\n",
        "Output Description:\n",
        "Print “Wonder” if it is wonderful and -1 if it is not\n",
        "\n",
        "Sample Input :\n",
        "aabbcc\n",
        "Sample Output :\n",
        "Wonder"
      ]
    },
    {
      "cell_type": "code",
      "execution_count": null,
      "metadata": {
        "id": "zS3VLrEymLAe"
      },
      "outputs": [],
      "source": [
        "s= input()\n",
        "y=\"\"  # aabbcc\n",
        "for x in s:\n",
        "    try:\n",
        "        if s.count(x)>1:\n",
        "            y=y+x\n",
        "            s=s.replace(x,\"\")\n",
        "        elif s.count(x)==1:\n",
        "            y=y+x\n",
        "    except:\n",
        "        pass\n",
        "\n",
        "#print(y)    \n",
        "if len(y)==3:\n",
        "    print(\"Wonder\")\n",
        "else:\n",
        "    print(-1)"
      ]
    },
    {
      "cell_type": "markdown",
      "metadata": {
        "id": "YP3aD9MVmRUB"
      },
      "source": [
        "Given a string S, print 'yes' if it has a vowel in it else print 'no'.\n",
        "Sample Testcase :\n",
        "INPUT\n",
        "codekata\n",
        "OUTPUT\n",
        "yes"
      ]
    },
    {
      "cell_type": "code",
      "execution_count": null,
      "metadata": {
        "id": "wLipZ5AimSMy"
      },
      "outputs": [],
      "source": [
        "string=input()\n",
        "vowels=[\"a\",\"e\",\"i\",\"o\",\"u\",\"A\",\"E\",\"I\",\"O\",\"U\"]\n",
        "\n",
        "a=True\n",
        "for letter in string:\n",
        "\n",
        "    if letter in vowels:\n",
        "        a=True\n",
        "        break\n",
        "    else:\n",
        "        a=False\n",
        "\n",
        "if a==True:\n",
        "    print(\"yes\")\n",
        "else:\n",
        "    print(\"no\")   "
      ]
    },
    {
      "cell_type": "markdown",
      "metadata": {
        "id": "6au-6zNymefg"
      },
      "source": [
        " Jennyfer is fond of strings. She wants to read the character from right to left (reverse the string), so she wants you to design a suitable algorithm which satisfy her desire.\n",
        "\n",
        "Input Description:\n",
        "Enter the string ‘s’\n",
        "\n",
        "Output Description:\n",
        "Print the string from characters right to left.\n",
        "\n",
        "Sample Input :\n",
        "jennyfer\n",
        "Sample Output :\n",
        "Refynnej"
      ]
    },
    {
      "cell_type": "code",
      "execution_count": null,
      "metadata": {
        "id": "Ito_kWNhmnRq"
      },
      "outputs": [],
      "source": [
        "s=input()\n",
        "s_New=s[::-1]\n",
        "s_New=s_New[0].upper()+s_New[1:]\n",
        "print(s_New)"
      ]
    },
    {
      "cell_type": "markdown",
      "metadata": {
        "id": "-bNBsHIwmwha"
      },
      "source": [
        "Given a string S, print it after changing the middle element to * (if the length of the string is even, change the 2 middle elements to *).\n",
        "Sample Testcase :\n",
        "INPUT\n",
        "hello\n",
        "OUTPUT\n",
        "he*lo"
      ]
    },
    {
      "cell_type": "code",
      "execution_count": null,
      "metadata": {
        "id": "TXaXGvbgmyIv"
      },
      "outputs": [],
      "source": [
        "s=input()\n",
        "n=len(s)//2\n",
        "m=n+1\n",
        "\n",
        "if len(s)%2==0:\n",
        "    s=s[:n-1]+\"**\"+s[m:]\n",
        "    print(s)\n",
        "else:\n",
        "    s=s[:n]+\"*\"+s[m:]\n",
        "    print(s)"
      ]
    },
    {
      "cell_type": "markdown",
      "metadata": {
        "id": "KGZjJkvGm1VH"
      },
      "source": [
        "You are given with a string which comprises of some numbers. Your task is to find the largest integer by converting the string to the corresponding integer.\n",
        "\n",
        "Input Description:\n",
        "First line contains n denoting number of Test Cases. The first and only Line of testcase has the string\n",
        "\n",
        "Output Description:\n",
        "Print the largest number\n",
        "\n",
        "Sample Input :\n",
        " I was born on 12 october 1998.\n",
        "Sample Output :\n",
        "1998"
      ]
    },
    {
      "cell_type": "code",
      "execution_count": null,
      "metadata": {
        "id": "uup4o6Mcm5Wk"
      },
      "outputs": [],
      "source": [
        "s=input().split(\".\")\n",
        "#print(s)\n",
        "\n",
        "I=[]\n",
        "\n",
        "s=[x.split() for x in s]\n",
        "#print(\"2nd: \",s)\n",
        "\n",
        "r=[]\n",
        "[r.extend(y) for y in s]\n",
        "#print(\"r:\",r)    \n",
        "\n",
        "for x in r:\n",
        "    try:\n",
        "        t=int(x)\n",
        "        I.append(t)\n",
        "    except:\n",
        "        pass\n",
        "    \n",
        "maxi=max(I)\n",
        "print(maxi)"
      ]
    },
    {
      "cell_type": "markdown",
      "metadata": {
        "id": "K2KhdZu2nKXG"
      },
      "source": [
        "Rahul is given a task to manipulate a string, He hired you as a developer your task is to delete all the repeating characters and print the result left.\n",
        "\n",
        "Input Description:\n",
        "You are given a string ‘s’\n",
        "\n",
        "Output Description:\n",
        "Print the remaining string\n",
        "\n",
        "Sample Input :\n",
        "mississipie\n",
        "Sample Output :\n",
        "mpe"
      ]
    },
    {
      "cell_type": "code",
      "execution_count": null,
      "metadata": {
        "id": "NGZ_nQW9nO5n"
      },
      "outputs": [],
      "source": [
        "s= input()\n",
        "y=\"\"    # mississpie\n",
        "for x in s:\n",
        "    try:\n",
        "        if s.count(x)==1:\n",
        "            y=y+x\n",
        "    except:\n",
        "        pass    \n",
        "print(y)"
      ]
    },
    {
      "cell_type": "markdown",
      "metadata": {
        "id": "8_b0axUgnWBH"
      },
      "source": [
        "Write a program to get a string S, Type of conversion (1 - Convert to Lowercase, 2 - Convert to Uppercase) T, and integer P . Convert the case of the letters in the positions which are multiples of P.(1 based indexing).\n",
        "\n",
        "Input Description:\n",
        "Given a string S, Type of conversion T, and integer P\n",
        "\n",
        "Output Description:\n",
        "Convert the case of the letters and print the string\n",
        "\n",
        "Sample Input :\n",
        "ProFiLe\n",
        "1\n",
        "2\n",
        "Sample Output :\n",
        "Profile"
      ]
    },
    {
      "cell_type": "code",
      "execution_count": null,
      "metadata": {
        "id": "4ixnwAsBnW_y"
      },
      "outputs": [],
      "source": [
        "s=input()\n",
        "t=int(input())\n",
        "p=int(input())\n",
        "\n",
        "if t==1:\n",
        "    try:\n",
        "        for x in range(1,len(s)+1):\n",
        "            our_position=p*x-1\n",
        "            sList=list(s)\n",
        "            change=sList[our_position]\n",
        "            sList[our_position]=change.lower()\n",
        "            s=\"\".join(sList)\n",
        "    except:\n",
        "        pass        \n",
        "\n",
        "elif t==2:\n",
        "    try:\n",
        "        for x in range(1,len(s)+1):\n",
        "            our_position=p*x-1\n",
        "            u=s[our_position].upper()\n",
        "            s=s[:our_position]+u+s[our_position+1:] \n",
        "    except:\n",
        "        pass              \n",
        "\n",
        "print(s)"
      ]
    },
    {
      "cell_type": "markdown",
      "metadata": {
        "id": "sg1iOwJOni2k"
      },
      "source": [
        "You are given a string ‘s’. Your task is to tell whether string is beautiful or not.A beautiful string is a string in which String starts with ‘a’ or ‘A’ and middle element is either ‘m’ or ‘M’ and last element is ‘z’or ‘Z’\n",
        "\n",
        "Input Description:\n",
        "You are given a string ‘s’.\n",
        "\n",
        "Output Description:\n",
        "Print 1 if string is beautiful and 0 if it is not\n",
        "\n",
        "Sample Input :\n",
        "Amz\n",
        "Sample Output :\n",
        "1"
      ]
    },
    {
      "cell_type": "code",
      "execution_count": null,
      "metadata": {
        "id": "hV9W0fnwnn90"
      },
      "outputs": [],
      "source": [
        "s=input()\n",
        "fLetter=[\"a\",\"A\"]\n",
        "mLetter=[\"m\",\"M\"]\n",
        "lLetter=[\"z\",\"Z\"]\n",
        "mValue=int(len(s)//2)\n",
        "\n",
        "if s[0] in fLetter and s[mValue] in mLetter and s[-1] in lLetter:\n",
        "    print(1)\n",
        "else:\n",
        "    print(0)"
      ]
    },
    {
      "cell_type": "markdown",
      "metadata": {
        "id": "XbHT-fpHnxhR"
      },
      "source": [
        "You are given a paragraph.Your task is to print the words that come just after articles.\n",
        "\n",
        "Input Description:\n",
        "You are given a string ‘s’\n",
        "\n",
        "Output Description:\n",
        "print the words that come just after articles and -1 if there are no articles\n",
        "\n",
        "Sample Input :\n",
        "The sun rises in the east\n",
        "\n",
        "Sample Output :\n",
        "sun east"
      ]
    },
    {
      "cell_type": "code",
      "execution_count": null,
      "metadata": {
        "id": "S0xzEoy9nybC"
      },
      "outputs": [],
      "source": [
        "s=input().split()\n",
        "articles=[\"a\",\"an\",\"the\",\"A\",\"An\",\"The\"]\n",
        "s1=[]\n",
        "\n",
        "for x in s:\n",
        "    if x in articles:\n",
        "        i=s.index(x)\n",
        "        s1.append(s[i+1])\n",
        "\n",
        "print(*s1)"
      ]
    },
    {
      "cell_type": "markdown",
      "metadata": {
        "id": "mQlNlKj0n3z1"
      },
      "source": [
        "You are given a string.Your task is to print only the consonants present in the string without affecting the sentence spacings if present. If no consonants are present print -1\n",
        "\n",
        "Input Description:\n",
        "You are given a string ‘s’.\n",
        "\n",
        "Output Description:\n",
        "Print only consonants.\n",
        "\n",
        "Sample Input :\n",
        "I am shrey \n",
        "Sample Output :\n",
        " m shry"
      ]
    },
    {
      "cell_type": "code",
      "execution_count": null,
      "metadata": {
        "id": "2tDi8UdDn8ZK"
      },
      "outputs": [],
      "source": [
        "a=input()\n",
        "vowels=[\"a\",\"e\",\"i\",\"o\",\"u\",\"A\",\"E\",\"I\",\"O\",\"U\"]\n",
        "\n",
        "for each in vowels:\n",
        "    if each in a:\n",
        "        a=a.replace(each,\"\")\n",
        "\n",
        "print(a)"
      ]
    },
    {
      "cell_type": "markdown",
      "metadata": {
        "id": "Vm6lt2ajoFLf"
      },
      "source": [
        "You are given a string ‘s’.Your task is to print the string in the order they are present and then sum of digits.\n",
        "\n",
        "Input Description:\n",
        "You are given a string ‘s’.\n",
        "\n",
        "Output Description:\n",
        "Print the string and then at last sum of all the digits\n",
        "\n",
        "Sample Input :\n",
        "AC30BD40\n",
        "Sample Output :\n",
        "ACBD7"
      ]
    },
    {
      "cell_type": "code",
      "execution_count": null,
      "metadata": {
        "id": "UHIUlsTqoGQW"
      },
      "outputs": [],
      "source": [
        "s=input()\n",
        "s1=list(s)\n",
        "i=[]\n",
        "sum=0\n",
        "\n",
        "for x in s1:\n",
        "    try:\n",
        "        t=int(x)\n",
        "        i.append(t)\n",
        "        sum+=t\n",
        "    except:\n",
        "        pass\n",
        "\n",
        "for num in i:\n",
        "    num=str(num)\n",
        "    #type(num)\n",
        "    if num in s:\n",
        "        s=s.replace(num,\"\")\n",
        "        \n",
        "s=s+str(sum)\n",
        "print(s)"
      ]
    },
    {
      "cell_type": "markdown",
      "metadata": {
        "id": "7sPOZU0OoKvt"
      },
      "source": [
        "You are given a string ‘s’. Your task is to find whether string is beautiful or not. A string is said to be beautiful whenever string is made up of only three characters. All the three characters must be distinct. Print true if string is beautiful and false when it is not beautiful\n",
        "\n",
        "Input Description:\n",
        "You are given a string\n",
        "\n",
        "Output Description:\n",
        "Print ‘1’ when string is beautiful and ‘0’ when it is not\n",
        "\n",
        "Sample Input :\n",
        "Aab\n",
        "Sample Output :\n",
        "1"
      ]
    },
    {
      "cell_type": "code",
      "execution_count": null,
      "metadata": {
        "id": "1cHyW0oHoPYL"
      },
      "outputs": [],
      "source": [
        "s= input()\n",
        "y=\"\"  # aabbcc\n",
        "for x in s:\n",
        "    try:\n",
        "        if s.count(x)>1:\n",
        "            y=y+x\n",
        "            s=s.replace(x,\"\")\n",
        "        elif s.count(x)==1:\n",
        "            y=y+x\n",
        "    except:\n",
        "        pass\n",
        "\n",
        "#print(y)    \n",
        "if len(y)==3:\n",
        "    print(1)\n",
        "else:\n",
        "    print(0)"
      ]
    },
    {
      "cell_type": "markdown",
      "metadata": {
        "id": "_jIwAdU5oiKP"
      },
      "source": [
        "Ria is a 5 year old girl. Her mother wants to teach her how to sort words in the same order that they appear in a dictionary. She decides to write a program to sort a given set of strings based on their alphabetical order. Help Ria’s mother to complete the program.\n",
        "\n",
        "Input Description:\n",
        "A set of N strings\n",
        "\n",
        "Output Description:\n",
        "Alphabetically sorted set of strings\n",
        "\n",
        "Sample Input :\n",
        "3\n",
        "InfinityWar EndGame Avengers\n",
        "Sample Output :\n",
        "Avengers EndGame InfinityWar"
      ]
    },
    {
      "cell_type": "code",
      "execution_count": null,
      "metadata": {
        "id": "6CirsRXsoj3S"
      },
      "outputs": [],
      "source": [
        "n=input() # number of words, 3,4,etc..\n",
        "a=input().split()\n",
        "a.sort()\n",
        "print(*a)"
      ]
    },
    {
      "cell_type": "markdown",
      "metadata": {
        "id": "xEKcLM8GovlK"
      },
      "source": [
        " Radha newly learnt about palindromic strings.A palindromic string is a string which is same when read from left to right and also from right to left.Help her in implementing the logic.\n",
        "\n",
        "Input Description:\n",
        "You are given a String ‘s’\n",
        "\n",
        "Output Description:\n",
        "Print 1 if String is palindrome or 0 if not\n",
        "\n",
        "Sample Input :\n",
        "NITIN\n",
        "Sample Output :\n",
        "1"
      ]
    },
    {
      "cell_type": "code",
      "execution_count": null,
      "metadata": {
        "id": "rZZuPS20o2Bz"
      },
      "outputs": [],
      "source": [
        "# Palindrome string  NITIN\n",
        "s=input().strip()\n",
        "l=len(s)\n",
        "mValue=int(len(s)//2)\n",
        "\n",
        "if l%2==0:\n",
        "    for i in range(mValue):\n",
        "        # print(\"i: \")\n",
        "        # print(\"s[i]: \",s[i])\n",
        "        # print(\"s[l-1-i]: \",s[l-1-i])\n",
        "        if s[i]==s[l-1-i]:\n",
        "            a=1\n",
        "        else:\n",
        "            a=0\n",
        "            break\n",
        "else:\n",
        "   for i in range(mValue-1):\n",
        "        # print(\"i: \")\n",
        "        # print(\"s[i]: \",s[i])\n",
        "        # print(\"s[l-1-i]: \",s[l-1-i])\n",
        "        if s[i]==s[l-1-i]:\n",
        "            a=1\n",
        "        else:\n",
        "            a=0\n",
        "            break\n",
        "\n",
        "print(a)"
      ]
    },
    {
      "cell_type": "markdown",
      "metadata": {
        "id": "f2iLPJm5o5mB"
      },
      "source": [
        "Given a string S, find its length(including the spaces)without using any pre-defined functions.\n",
        "Sample Testcase :\n",
        "INPUT\n",
        "codekata\n",
        "OUTPUT\n",
        "8"
      ]
    },
    {
      "cell_type": "code",
      "execution_count": null,
      "metadata": {
        "id": "USrY6iqso9mE"
      },
      "outputs": [],
      "source": [
        "s=input()\n",
        "total=0\n",
        "for words in s:\n",
        "    total+=1\n",
        "\n",
        "print(total)"
      ]
    },
    {
      "cell_type": "markdown",
      "metadata": {
        "id": "SOmLVxh2pZ7O"
      },
      "source": [
        "You are given a number with duplicate digits your task is to remove the immediate duplicate digits and print the result\n",
        "\n",
        "Input Description:\n",
        "You are given a long string of digits\n",
        "\n",
        "Output Description:\n",
        "Print the desired result print -1 if result length is 0\n",
        "\n",
        "Sample Input :\n",
        "1331\n",
        "Sample Output :\n",
        "11"
      ]
    },
    {
      "cell_type": "code",
      "execution_count": null,
      "metadata": {
        "id": "hLf_ZrSdpicu"
      },
      "outputs": [],
      "source": [
        "s = input()\n",
        "i = 1\n",
        "final_Str = s[0]\n",
        "while i < len(s) - 1:\n",
        "    if s[i] == s[i + 1]:\n",
        "        i = i + 2\n",
        "    else:\n",
        "        final_Str += s[i]\n",
        "        i = i + 1\n",
        "final_Str += s[-1]\n",
        "print(final_Str)"
      ]
    },
    {
      "cell_type": "markdown",
      "metadata": {
        "id": "25sDo6jJqQhm"
      },
      "source": [
        "Given a string S, print it without using semicolon in your program.\n",
        "Sample Testcase :\n",
        "INPUT\n",
        "hello world\n",
        "OUTPUT\n",
        "hello world"
      ]
    },
    {
      "cell_type": "code",
      "execution_count": null,
      "metadata": {
        "id": "twgmuyTLqP57"
      },
      "outputs": [],
      "source": [
        "s=input()\n",
        "print(s)"
      ]
    },
    {
      "cell_type": "markdown",
      "metadata": {
        "id": "X6chNjfWqcjD"
      },
      "source": [
        "In XYZ country there is rule that car’s engine no. depends upon car’ number plate. Engine no is sum of all the integers present on car’s Number plate.The issuing authority has hired you in order to provide engine no. to the cars.Your task is to develop an algorithm which takes input as in form of string(Number plate) and gives back\n",
        "\n",
        "Engine number.\n",
        "\n",
        "Input Description:\n",
        "You are given a string ’s’\n",
        "\n",
        "Output Description:\n",
        "Print the engine number\n",
        "\n",
        "Sample Input :\n",
        "HR05-AA-2669\n",
        "Sample Output :\n",
        "28"
      ]
    },
    {
      "cell_type": "code",
      "execution_count": null,
      "metadata": {
        "id": "1EAA2ruVqdd5"
      },
      "outputs": [],
      "source": [
        "s=input()\n",
        "s1=list(s)\n",
        "i=[]\n",
        "sum=0\n",
        "\n",
        "for x in s1:\n",
        "    try:\n",
        "        t=int(x)\n",
        "        i.append(t)\n",
        "        sum+=t\n",
        "    except:\n",
        "        pass\n",
        "\n",
        "print(sum)"
      ]
    },
    {
      "cell_type": "markdown",
      "metadata": {
        "id": "Wn1FWb3Eqg5f"
      },
      "source": [
        "You are given some words all in lower case letters your task is to print them in sorted order.\n",
        "\n",
        "Input Description:\n",
        "You are given a string ‘s’\n",
        "\n",
        "Output Description:\n",
        "Print the string in sorted order\n",
        "\n",
        "Sample Input :\n",
        "virat kohli\n",
        "Sample Output :\n",
        "kohli virat"
      ]
    },
    {
      "cell_type": "code",
      "execution_count": null,
      "metadata": {
        "id": "qfmIrIf9ql-C"
      },
      "outputs": [],
      "source": [
        "s=input().split()\n",
        "s.sort()\n",
        "print(*s)"
      ]
    },
    {
      "cell_type": "markdown",
      "metadata": {
        "id": "vaNk_LQQqoga"
      },
      "source": [
        "Given a sentence and string S, find how many times S occurs in the given sentence.If S is not found in the sentence print -1\n",
        "Input Size : |sentence| <= 1000000(complexity O(n)).\n",
        "Sample Testcase :\n",
        "INPUT\n",
        "I enjoy doing codekata\n",
        "codekata\n",
        "OUTPUT\n",
        "1"
      ]
    },
    {
      "cell_type": "code",
      "execution_count": null,
      "metadata": {
        "id": "7Kj_k1Ttqtuj"
      },
      "outputs": [],
      "source": [
        "sentence=input()\n",
        "string=input()\n",
        "\n",
        "if string in sentence:\n",
        "    num=sentence.count(string)\n",
        "    print(num)\n",
        "else:\n",
        "    print(-1) "
      ]
    },
    {
      "cell_type": "markdown",
      "metadata": {
        "id": "UecxLUCoqzRb"
      },
      "source": [
        "You are given a string ‘S’ consisting of lowercase Latin Letters. Find the first non repeating character in S. If you find all the characters are repeating print the answer as -1\n",
        "\n",
        "Input Description:\n",
        "You are given a string ‘s’\n",
        "\n",
        "Output Description:\n",
        "Print the first non occurring character if possible else -1.\n",
        "\n",
        "Sample Input :\n",
        "apple\n",
        "Sample Output :\n",
        "a"
      ]
    },
    {
      "cell_type": "code",
      "execution_count": null,
      "metadata": {
        "id": "IRnUVseFq1nt"
      },
      "outputs": [],
      "source": [
        "s=input()\n",
        "\n",
        "for letter in s:\n",
        "    num=s.count(letter)\n",
        "    if num==1:\n",
        "        print(letter)\n",
        "        break\n",
        "    else:\n",
        "        pass"
      ]
    },
    {
      "cell_type": "markdown",
      "metadata": {
        "id": "0kXSuKLdq5DY"
      },
      "source": [
        "Given a string S, print 'yes' if it is a palindrome or 'no' if it is not a palindrome.\n",
        "Sample Testcase :\n",
        "INPUT\n",
        "lappal\n",
        "OUTPUT\n",
        "yes"
      ]
    },
    {
      "cell_type": "code",
      "execution_count": null,
      "metadata": {
        "id": "n_B-mDvsq5-r"
      },
      "outputs": [],
      "source": [
        "s=input().strip()\n",
        "l=len(s)\n",
        "mValue=int(len(s)//2)\n",
        "\n",
        "if l%2==0:\n",
        "    for i in range(mValue):\n",
        "\n",
        "        if s[i]==s[l-1-i]:\n",
        "            a=\"yes\"\n",
        "        else:\n",
        "            a=\"no\"\n",
        "            break\n",
        "else:\n",
        "   for i in range(mValue-1):\n",
        "\n",
        "        if s[i]==s[l-1-i]:\n",
        "            a=\"yes\"\n",
        "        else:\n",
        "            a=\"no\"\n",
        "            break\n",
        "\n",
        "print(a)"
      ]
    },
    {
      "cell_type": "markdown",
      "metadata": {
        "id": "A5B489BarA_u"
      },
      "source": [
        "You are given two string ‘s1’ and ‘s2’. You have to tell whether these form pair of (strset) A pair of strings is said to be str set if one string is substring of other.\n",
        "\n",
        "Input Description:\n",
        "You are given two strings ‘s1’ and ‘s2’\n",
        "\n",
        "Output Description:\n",
        "Print Yes if they form strset and No if they don’t.\n",
        "\n",
        "Sample Input :\n",
        "abc ab\n",
        "Sample Output :\n",
        "Yes"
      ]
    },
    {
      "cell_type": "code",
      "execution_count": null,
      "metadata": {
        "id": "N_TazcFCq7Tj"
      },
      "outputs": [],
      "source": [
        "s=input().split()\n",
        "s1,s2=s\n",
        "#print(s1,s2)\n",
        "if s1 in s2 or s2 in s1:\n",
        "    print(\"Yes\")\n",
        "else:\n",
        "    print(\"No\")"
      ]
    },
    {
      "cell_type": "markdown",
      "metadata": {
        "id": "Ec7ntRG4rIZN"
      },
      "source": [
        "Given a string S, print 2 strings such that first string containing all characters in odd position(s) and other containing all characters in even position(s).\n",
        "Sample Testcase :\n",
        "INPUT\n",
        "XCODE\n",
        "OUTPUT\n",
        "XOE CD"
      ]
    },
    {
      "cell_type": "code",
      "execution_count": null,
      "metadata": {
        "id": "L0dcV6p6rKWq"
      },
      "outputs": [],
      "source": [
        "s=input()\n",
        "evenString=\"\"\n",
        "oddString=\"\"\n",
        "for x in range(0,len(s),2):\n",
        "    try:\n",
        "        a=s[x]\n",
        "        evenString=evenString+a\n",
        "    except:\n",
        "        pass\n",
        "for y in range(1,len(s),2):\n",
        "    try:\n",
        "        b=s[y]\n",
        "        oddString=oddString+b\n",
        "    except:\n",
        "        pass\n",
        "\n",
        "print(evenString+\" \"+oddString)"
      ]
    },
    {
      "cell_type": "markdown",
      "metadata": {
        "id": "jHSbhHG1rQsb"
      },
      "source": [
        "Given 2 strings,check whether they have any common characters.If found print 'yes' else print 'no'.\n",
        "Input Size : |s| <= 100000(O(n))\n",
        "Sample Testcase :\n",
        "INPUT\n",
        "guvi guvigeeks\n",
        "OUTPUT\n",
        "yes"
      ]
    },
    {
      "cell_type": "code",
      "execution_count": null,
      "metadata": {
        "id": "jOWrDgwUrTF-"
      },
      "outputs": [],
      "source": [
        "s=input().split()\n",
        "s1,s2=s\n",
        "\n",
        "if s1 in s2 or s2 in s1:\n",
        "    print(\"yes\")\n",
        "else:\n",
        "    print(\"no\")"
      ]
    },
    {
      "cell_type": "markdown",
      "metadata": {
        "id": "42ztf5tTrYv2"
      },
      "source": [
        "You are given a string ‘s’.Print all the duplicate characters of string.\n",
        "\n",
        "Input Description:\n",
        "String ‘s; is given\n",
        "\n",
        "Output Description:\n",
        "Print only duplicate character and -1 if no character is duplicate.\n",
        "\n",
        "Sample Input :\n",
        "abcddee\n",
        "Sample Output :\n",
        "d e"
      ]
    },
    {
      "cell_type": "code",
      "execution_count": null,
      "metadata": {
        "id": "GrLkHiy9rbtN"
      },
      "outputs": [],
      "source": [
        "s=input()\n",
        "y=\"\"    # mississpie\n",
        "for x in s:\n",
        "    try:\n",
        "        if s.count(x)>1:\n",
        "            s=s.replace(x,\"\")\n",
        "            y=y+\" \"+x\n",
        "        \n",
        "    except:\n",
        "        pass\n",
        "\n",
        "if len(y)!=0:\n",
        "    y=y.strip()\n",
        "    print(y)\n",
        "else:\n",
        "    print(-1)"
      ]
    },
    {
      "cell_type": "markdown",
      "metadata": {
        "id": "gn-wbSk6riPD"
      },
      "source": [
        "Given a string 'S' swap the even and odd characters starting from index 1(Assume the index starts from 0).\n",
        "Input Size : |s| <= 10000000(complexity O(n))\n",
        "Sample Testcase :\n",
        "INPUT\n",
        "codekata\n",
        "OUTPUT\n",
        "ocedakat"
      ]
    },
    {
      "cell_type": "code",
      "execution_count": null,
      "metadata": {
        "id": "kAomRWzKrjYi"
      },
      "outputs": [],
      "source": [
        "s=input()\n",
        "s=''.join([ s[x:x+2][::-1] for x in range(0, len(s), 2) ])\n",
        "print(s)"
      ]
    },
    {
      "cell_type": "markdown",
      "metadata": {
        "id": "Pg4nvKSBroRD"
      },
      "source": [
        "Given a string S.Validate if a given string is numeric.print 'yes' if it is a numeric otherwise print 'no'.\n",
        "Sample Testcase :\n",
        "INPUT\n",
        "guvigeeks\n",
        "OUTPUT\n",
        "no"
      ]
    },
    {
      "cell_type": "code",
      "execution_count": null,
      "metadata": {
        "id": "kCMG4RB_rrV-"
      },
      "outputs": [],
      "source": [
        "s=input()\n",
        "\n",
        "try:\n",
        "    list(map(int,s))\n",
        "except:\n",
        "    print(\"no\")\n",
        "else:\n",
        "    print(\"yes\") "
      ]
    },
    {
      "cell_type": "markdown",
      "metadata": {
        "id": "rWtlrNyfru_C"
      },
      "source": [
        "Given a string/sentence remove all the spaces and print the result.\n",
        "Input Size : |s| <= 1000000(complexity O(n))\n",
        "Sample Testcase :\n",
        "INPUT\n",
        "guvi geeks\n",
        "OUTPUT\n",
        "guvigeeks"
      ]
    },
    {
      "cell_type": "code",
      "execution_count": null,
      "metadata": {
        "id": "DaNyxRsgrxPX"
      },
      "outputs": [],
      "source": [
        "s=input().split()\n",
        "s1=\"\"\n",
        "for x in s:\n",
        "    s1=s1+x\n",
        "\n",
        "print(s1)"
      ]
    },
    {
      "cell_type": "markdown",
      "metadata": {
        "id": "L8CzgPUyr0W5"
      },
      "source": [
        "Given 2 strings.check if the second string is a substring of the first string.Print 'yes' if there exists a valid substring otherwise print 'no'.\n",
        "Input Size : 1 <= N <= 100000\n",
        "Sample Testcase :\n",
        "INPUT\n",
        "codekata code\n",
        "OUTPUT\n",
        "yes"
      ]
    },
    {
      "cell_type": "code",
      "execution_count": null,
      "metadata": {
        "id": "nYjgY9Jrr23R"
      },
      "outputs": [],
      "source": [
        "s=input().split()\n",
        "s1,s2=s\n",
        "print(\"yes\") if s2 in s1 else print(\"no\")"
      ]
    },
    {
      "cell_type": "markdown",
      "metadata": {
        "id": "PXtp7a8kr6DY"
      },
      "source": [
        "Given a string S, print the 1st and 3rd character of the string (chracter index starts from 1).\n",
        "Input Size : 1 <= N <= 100000\n",
        "Sample Testcase :\n",
        "INPUT\n",
        "codekata\n",
        "OUTPUT\n",
        "cd"
      ]
    },
    {
      "cell_type": "code",
      "execution_count": null,
      "metadata": {
        "id": "LIPmIj6er8O9"
      },
      "outputs": [],
      "source": [
        "s=input()\n",
        "print(s[0]+s[2])"
      ]
    },
    {
      "cell_type": "markdown",
      "metadata": {
        "id": "ZZ-4l0GDsA7z"
      },
      "source": [
        "Given a string two strings S1 and S2, remove characters from the S1 which are present in the S2.If S1 becomes empty then print -1\n",
        "Input Size : N <= 100000\n",
        "Sample Testcase :\n",
        "INPUT\n",
        "GUVI GEEK\n",
        "OUTPUT\n",
        "UVI"
      ]
    },
    {
      "cell_type": "code",
      "execution_count": null,
      "metadata": {
        "id": "gLng_ED1sCFU"
      },
      "outputs": [],
      "source": [
        "s=input().split()\n",
        "s1,s2=s\n",
        "d=\"\"\n",
        "for x in s1:\n",
        "    if x not in s2:\n",
        "        d=d+x\n",
        "if len(d) !=0:\n",
        "    print(d)\n",
        "else:\n",
        "    print(-1)"
      ]
    },
    {
      "cell_type": "markdown",
      "metadata": {
        "id": "pdsqVSFGsEvb"
      },
      "source": [
        "You are given a string ‘s’. Your task is to print the characters which are not repeated with a single space in between the characters.\n",
        "\n",
        "Input Description:\n",
        "You are given a string ‘s’.\n",
        "\n",
        "Output Description:\n",
        "Print the characters present once and -1 if there is no character which satisfy above condition\n",
        "\n",
        "Sample Input :\n",
        "dabbc\n",
        "Sample Output :\n",
        "d a c"
      ]
    },
    {
      "cell_type": "code",
      "execution_count": null,
      "metadata": {
        "id": "SoiA_2njsLvQ"
      },
      "outputs": [],
      "source": [
        "s=input()\n",
        "\n",
        "for x in s:\n",
        "    c=s.count(x)\n",
        "    if c>1:\n",
        "        s=s.replace(x,\"\")\n",
        "    \n",
        "s=list(s)\n",
        "print(*s)"
      ]
    },
    {
      "cell_type": "markdown",
      "metadata": {
        "id": "JdeymnZusOnj"
      },
      "source": [
        "Given a string S, print the reverse of the string.\n",
        "Input Size : |s| <= 100000 (ie do it in O(n) or O(log n) time complexity)\n",
        "Sample Testcase :\n",
        "INPUT\n",
        "codekata\n",
        "OUTPUT\n",
        "atakedoc"
      ]
    },
    {
      "cell_type": "code",
      "execution_count": null,
      "metadata": {
        "id": "AaY_Lp7NsRJf"
      },
      "outputs": [],
      "source": [
        "s=input()\n",
        "s_New=s[::-1]\n",
        "#s_New=s_New[0].upper()+s_New[1:]\n",
        "#s_New=s_New.capitalize() # First letter of the string is capitalised\n",
        "print(s_New)"
      ]
    },
    {
      "cell_type": "markdown",
      "metadata": {
        "id": "WF_pVI02sjBu"
      },
      "source": [
        "Given a number N,check whether it has repeating digits in it.print 'yes' if it has repeating digits otherwise print 'no'.\n",
        "Sample Testcase :\n",
        "INPUT\n",
        "11234\n",
        "OUTPUT\n",
        "yes"
      ]
    },
    {
      "cell_type": "code",
      "execution_count": null,
      "metadata": {
        "id": "aWYaVVXnsnk_"
      },
      "outputs": [],
      "source": [
        "s= input()\n",
        "def repeat(s):\n",
        "    for x in s:\n",
        "        try:\n",
        "            if s.count(x)>1:\n",
        "                a=True\n",
        "                return a\n",
        "            else:\n",
        "                a=False\n",
        "                return a \n",
        "        except:\n",
        "            pass    \n",
        "b=repeat(s)\n",
        "print(\"yes\") if b == True else print(\"no\")    "
      ]
    },
    {
      "cell_type": "markdown",
      "metadata": {
        "id": "8iTnUUl-u6Ux"
      },
      "source": [
        "Given a day, print 'yes' if it is a holiday otherwise print'no'.Assume that weekend days are holidays\n",
        "Sample Testcase :\n",
        "INPUT\n",
        "saturday\n",
        "OUTPUT\n",
        "yes\n",
        "INPUT\n",
        "monday\n",
        "OUTPUT\n",
        "no"
      ]
    },
    {
      "cell_type": "code",
      "execution_count": null,
      "metadata": {
        "id": "SVtkb0dEu7Hb"
      },
      "outputs": [],
      "source": [
        "s=input()\n",
        "s=s.lower()\n",
        "wknd=[\"saturday\",\"sunday\"]\n",
        "print(\"yes\") if s in wknd else print('no')"
      ]
    },
    {
      "cell_type": "markdown",
      "metadata": {
        "id": "vuvKWwdLu-BJ"
      },
      "source": [
        "Given a string S, print the reverse of the string after removing the vowels.If the resulting string is empty print '-1'.\n",
        "Input Size : 1 <= N <= 100000\n",
        "Sample Testcase :\n",
        "INPUT\n",
        "codekata\n",
        "OUTPUT\n",
        "tkdc"
      ]
    },
    {
      "cell_type": "code",
      "execution_count": null,
      "metadata": {
        "id": "UK6qLws6vBlP"
      },
      "outputs": [],
      "source": [
        "s=input()\n",
        "vowels=[\"a\",\"e\",\"i\",\"o\",\"u\",'A','E','I','O','U']\n",
        "\n",
        "for x in s:\n",
        "    if x in vowels:\n",
        "        s=s.replace(x,\"\")\n",
        "    else:\n",
        "        pass\n",
        "print(s[::-1]) if len(s)!=0 else print('-1')"
      ]
    },
    {
      "cell_type": "markdown",
      "metadata": {
        "id": "R3mzoNL4vINB"
      },
      "source": [
        "Given a sentence S take out the extra spaces.If no extra space is present print the same as output.\n",
        "Input Size : |s| <= 100000(complexity O(n))\n",
        "Sample Testcase :\n",
        "INPUT\n",
        "codekata challenge\n",
        "OUTPUT\n",
        "codekata challenge"
      ]
    },
    {
      "cell_type": "code",
      "execution_count": null,
      "metadata": {
        "id": "5LEhTA2xvLcw"
      },
      "outputs": [],
      "source": [
        "s=input().split()\n",
        "s_New=s[0]\n",
        "for x in range(1,len(s)):\n",
        "    s_New=s_New+\" \"+s[x].strip()\n",
        "print(s_New)"
      ]
    },
    {
      "cell_type": "markdown",
      "metadata": {
        "id": "yygeDfQNvRqL"
      },
      "source": [
        "Given a string and a number K.Print every kth character from the beginning.\n",
        "Sample Testcase :\n",
        "INPUT\n",
        "string 3\n",
        "OUTPUT\n",
        "r g"
      ]
    },
    {
      "cell_type": "code",
      "execution_count": null,
      "metadata": {
        "id": "DWsGA8JvvUlZ"
      },
      "outputs": [],
      "source": [
        "s=input()\n",
        "s,n=s.split()\n",
        "n=int(n)\n",
        "t=list()\n",
        "for x in range(1,len(s)+1):\n",
        "    try:\n",
        "        r=s[n*x-1]\n",
        "        t.append(r)\n",
        "    except:\n",
        "        pass    \n",
        "print(*t)"
      ]
    },
    {
      "cell_type": "markdown",
      "metadata": {
        "id": "jBbCsBENv5Oz"
      },
      "source": [
        "Given a input string S, reverse the given string by appending each character of the string with '-'.\n",
        "Input Size : |S| <= 100000\n",
        "Sample Testcase :\n",
        "INPUT\n",
        "codekata\n",
        "OUTPUT\n",
        "a-t-a-k-e-d-o-c"
      ]
    },
    {
      "cell_type": "code",
      "execution_count": null,
      "metadata": {
        "id": "7Etk5kl4v70S"
      },
      "outputs": [],
      "source": [
        "s=input()\n",
        "s='-'.join([s[x:x+1] for x in range(0, len(s), 1 )])\n",
        "s=s[::-1]\n",
        "print(s)"
      ]
    },
    {
      "cell_type": "markdown",
      "metadata": {
        "id": "TFauX9hFwDwF"
      },
      "source": [
        " You are given a string ‘s’.Your task is to print the string in alternate lowercase and uppercase order.\n",
        "\n",
        "Input Description:\n",
        "You are given a string\n",
        "\n",
        "Output Description:\n",
        "Print the string according to given criteria\n",
        "\n",
        "Sample Input :\n",
        "abcd efgh ijkl\n",
        "Sample Output :\n",
        "ABCD efgh IJKL"
      ]
    },
    {
      "cell_type": "code",
      "execution_count": null,
      "metadata": {
        "id": "W6fskwzjwNdp"
      },
      "outputs": [],
      "source": [
        "s=input().split()\n",
        "\n",
        "for x in range(0,len(s),2):\n",
        "    s[x]=s[x].upper()\n",
        "\n",
        "for x in range(1,len(s),2):\n",
        "    s[x]=s[x].lower()\n",
        "\n",
        "print(*s)"
      ]
    },
    {
      "cell_type": "markdown",
      "metadata": {
        "id": "NRIKf3CKwZ2H"
      },
      "source": [
        "Given a string and a number K, change every kth character to uppercase from beginning in string.\n",
        "Sample Testcase :\n",
        "INPUT\n",
        "string 2\n",
        "OUTPUT\n",
        "sTrInG"
      ]
    },
    {
      "cell_type": "code",
      "execution_count": null,
      "metadata": {
        "id": "RU-WBXOIwazL"
      },
      "outputs": [],
      "source": [
        "s,k=input().split()\n",
        "# s=s.split()\n",
        "k=int(k)\n",
        "if k!=0:\n",
        "    for x in range(0+k-1,len(s),k):\n",
        "        a=s[x]\n",
        "        b=s[x].upper()\n",
        "\n",
        "        try:\n",
        "            s=s.replace(a,b)\n",
        "        except:\n",
        "            pass    \n",
        "print(s)"
      ]
    },
    {
      "cell_type": "markdown",
      "metadata": {
        "id": "zl0A9MNdwrFi"
      },
      "source": [
        "Given a string S of length N, reverse the case of each letter.\n",
        "Input Size : N <= 100\n",
        "Sample Testcase :\n",
        "INPUT\n",
        "HeLlo\n",
        "OUTPUT\n",
        "hElLO"
      ]
    },
    {
      "cell_type": "code",
      "execution_count": null,
      "metadata": {
        "id": "5ukXaadIwuN2"
      },
      "outputs": [],
      "source": [
        "s=input()\n",
        "s_new=''\n",
        "for x in s:\n",
        "    if x.islower():\n",
        "        x=x.upper()\n",
        "        s_new=s_new+x\n",
        "    else:    \n",
        "        x=x.lower()\n",
        "        s_new=s_new+x\n",
        "\n",
        "print(s_new)"
      ]
    },
    {
      "cell_type": "markdown",
      "metadata": {
        "id": "emT9XLUaxFGI"
      },
      "source": [
        "Given a string S, print 'yes' if the strings 'GUVI' and 'GEEK' is present case-sensitively in the string else print 'no'.\n",
        "Input Size : 1 <= 100\n",
        "Sample Testcase :\n",
        "INPUT\n",
        "Vishal_Sundar prepared this question\n",
        "OUTPUT\n",
        "no"
      ]
    },
    {
      "cell_type": "code",
      "execution_count": null,
      "metadata": {
        "id": "tOo6NMAYxHmp"
      },
      "outputs": [],
      "source": [
        "s=input()\n",
        "\n",
        "print('yes') if 'GUVI' and \"GEEK\" in s else print('no')"
      ]
    },
    {
      "cell_type": "markdown",
      "metadata": {
        "id": "XHrCeSlJxOyD"
      },
      "source": [
        "Given 2 strings S1 and s2, check whether they are case senitively equal without using any predefined function(case sensitive).If they are not same print 'no'\n",
        "Sample Testcase :\n",
        "INPUT\n",
        "guvi guvi\n",
        "OUTPUT\n",
        "yes"
      ]
    },
    {
      "cell_type": "code",
      "execution_count": null,
      "metadata": {
        "id": "535McXxKxUv9"
      },
      "outputs": [],
      "source": [
        "s1,s2=input().split()\n",
        "# s2=input()\n",
        "num=0\n",
        "\n",
        "for x in range(len(s1)):\n",
        "    if s1[x]==s2[x]:\n",
        "        num+=1\n",
        "\n",
        "print('yes') if num==len(s1) else print('no')"
      ]
    },
    {
      "cell_type": "markdown",
      "metadata": {
        "id": "_5MtNdngxmNZ"
      },
      "source": [
        "Given 2 numbers N,K and an array of N integers, find if the element K exists in the array.\n",
        "Input Size : N <= 100000\n",
        "Sample Testcase :\n",
        "INPUT\n",
        "5 2\n",
        "1 2 3 4 5\n",
        "OUTPUT\n",
        "yes\n",
        "HINT: Read about Binary Search"
      ]
    },
    {
      "cell_type": "code",
      "execution_count": null,
      "metadata": {
        "id": "l2TNgghAxp9n"
      },
      "outputs": [],
      "source": [
        "s=input().split()\n",
        "n,k=list(map(int,s))\n",
        "integers=input().split()\n",
        "integers=list(map(int,integers))\n",
        "print('yes') if k in integers else print('no')"
      ]
    },
    {
      "cell_type": "markdown",
      "metadata": {
        "id": "GwbocpDJx2T9"
      },
      "source": [
        "Given a String S and a string P, find if P is a substring of S. Print 'yes' if it is a substring else 'no'.\n",
        "Input Size : |s| <= 10000 |p| <= 1000.\n",
        "Sample Testcase :\n",
        "INPUT\n",
        "sundar sun\n",
        "OUTPUT\n",
        "yes"
      ]
    },
    {
      "cell_type": "code",
      "execution_count": null,
      "metadata": {
        "id": "QQG-_OcHx5E-"
      },
      "outputs": [],
      "source": [
        "s,p=input().split()\n",
        "\n",
        "print('yes') if p in s else print('no')"
      ]
    },
    {
      "cell_type": "markdown",
      "metadata": {
        "id": "nk0LSLZ5x-hO"
      },
      "source": [
        "Given a string print reverse all words except the first and last words.\n",
        "Sample Testcase :\n",
        "INPUT\n",
        "Hi how are you\n",
        "OUTPUT\n",
        "Hi woh era you"
      ]
    },
    {
      "cell_type": "code",
      "execution_count": null,
      "metadata": {
        "id": "UuylQbWPyBAb"
      },
      "outputs": [],
      "source": [
        "s=input().split()\n",
        "reverse=''\n",
        "for x in s[1:-1]:\n",
        "    reverse=reverse+\" \"+x[::-1]\n",
        "print(s[0]+reverse+\" \"+s[-1])"
      ]
    },
    {
      "cell_type": "markdown",
      "metadata": {
        "id": "zO0lqaJOyHO2"
      },
      "source": [
        "Given 2 strings S,X. Print the string after deleting X.If X not found print the same string.\n",
        "Input Size : 1 <= |s|, |x| <= 1000\n",
        "Sample Testcase :\n",
        "INPUT\n",
        "Happy Birthday\n",
        "Happy\n",
        "OUTPUT\n",
        "Birthday"
      ]
    },
    {
      "cell_type": "code",
      "execution_count": null,
      "metadata": {
        "id": "4zbkwoDmyJmI"
      },
      "outputs": [],
      "source": [
        "s=input()\n",
        "p=input()\n",
        "\n",
        "if p in s:\n",
        "    s=s.replace(p,\"\")\n",
        "\n",
        "print(s.strip())\n"
      ]
    },
    {
      "cell_type": "markdown",
      "metadata": {
        "id": "4e69zXyVyL9K"
      },
      "source": [
        "A number is given as input.Find the maximum number that can be formed using the digits.\n",
        "Input Size : N <= 10000000\n",
        "Sample Testcase :\n",
        "INPUT\n",
        "4123\n",
        "OUTPUT\n",
        "4321"
      ]
    },
    {
      "cell_type": "code",
      "execution_count": null,
      "metadata": {
        "id": "4s0haxztyOaQ"
      },
      "outputs": [],
      "source": [
        "s=input()\n",
        "s=[int(x) for x in s]\n",
        "s.sort(reverse=True)\n",
        "r=[str(x) for x in s]\n",
        "t=''\n",
        "for x in r:\n",
        "    t=t+x\n",
        "\n",
        "print(t)"
      ]
    },
    {
      "cell_type": "markdown",
      "metadata": {
        "id": "9mIZz_X7ySHi"
      },
      "source": [
        "Given a number N, print the sum of the squares of its digits.\n",
        "Input Size : 1 <= N <= 1000000000000000000\n",
        "Sample Testcase :\n",
        "INPUT\n",
        "19\n",
        "OUTPUT\n",
        "82"
      ]
    },
    {
      "cell_type": "code",
      "execution_count": null,
      "metadata": {
        "id": "ZEhgNzUsyRns"
      },
      "outputs": [],
      "source": [
        "s=input()\n",
        "num=0\n",
        "for x in s:\n",
        "    num=num+int(x)**2\n",
        "\n",
        "print(num)"
      ]
    },
    {
      "cell_type": "markdown",
      "metadata": {
        "id": "bR8BP0XfzE2U"
      },
      "source": [
        "Given a string 'S' and a character 'K', find how many times 'K' got repeated in 'S'.If 'K' is not found in 'S' print -1\n",
        "Input Size : |s| <= 100000\n",
        "Sample Testcase :\n",
        "INPUT\n",
        "codekata a\n",
        "OUTPUT\n",
        "2"
      ]
    },
    {
      "cell_type": "code",
      "execution_count": null,
      "metadata": {
        "id": "NytEyEUmzTiz"
      },
      "outputs": [],
      "source": [
        "s,k=input().split()\n",
        "num=s.count(k)\n",
        "print(num) if num!=0 else print(-1)"
      ]
    },
    {
      "cell_type": "markdown",
      "metadata": {
        "id": "NK44uo5_zZ0m"
      },
      "source": [
        "Given 2 strings and a number K, check whether they differ exactly by K characters.\n",
        "Input Size : |s| <= 100000(complexity O(nlogn) or O(n))\n",
        "Sample Testcase :\n",
        "INPUT\n",
        "codekata codeguvi 4\n",
        "OUTPUT\n",
        "yes"
      ]
    },
    {
      "cell_type": "code",
      "execution_count": null,
      "metadata": {
        "id": "mD5UpTP5zgBx"
      },
      "outputs": [],
      "source": [
        "r,s,n=input().split()\n",
        "n=int(n)\n",
        "\n",
        "num=0\n",
        "\n",
        "for x in r:\n",
        "    if x not in s:\n",
        "        num+=1\n",
        "    else:\n",
        "        pass\n",
        "\n",
        "print('yes') if n==num else print('no')"
      ]
    },
    {
      "cell_type": "markdown",
      "metadata": {
        "id": "J7yhXyGYz0Xj"
      },
      "source": [
        "Given 2 strings check whether they differ exacly by one character.If yes then print 'yes' otherwise print 'no'\n",
        "Input Size : |s| <= 100000(complexity O(nlogn) or O(n))\n",
        "Sample Testcase :\n",
        "INPUT\n",
        "codekata codekate\n",
        "OUTPUT\n",
        "yes"
      ]
    },
    {
      "cell_type": "code",
      "execution_count": null,
      "metadata": {
        "id": "dRvaFz8Bz28E"
      },
      "outputs": [],
      "source": [
        "r,s=input().split() #codekata codekate\n",
        "\n",
        "num=0\n",
        "\n",
        "for x in range(len(r)):\n",
        "    try:\n",
        "        if r[x] != s[x]:\n",
        "            num+=1\n",
        "    except:\n",
        "        pass    \n",
        "print('yes') if num==1 else print(\"no\")"
      ]
    },
    {
      "cell_type": "markdown",
      "metadata": {
        "id": "iqea-cr_z7yd"
      },
      "source": [
        "Given a number N, print the kth digit from the given position p(given order N P K).\n",
        "Sample Testcase :\n",
        "INPUT\n",
        "5765 2 1\n",
        "OUTPUT\n",
        "6"
      ]
    },
    {
      "cell_type": "code",
      "execution_count": null,
      "metadata": {
        "id": "MUhvabn5z-e6"
      },
      "outputs": [],
      "source": [
        "n,k,p=input().split()   #5765 2 1\n",
        "k,p=map(int,[k,p])\n",
        "\n",
        "print(n[k+p-1])"
      ]
    },
    {
      "cell_type": "markdown",
      "metadata": {
        "id": "MkssGWRO0bEU"
      },
      "source": [
        "Given a string/sentence print its corresponding camelcase convention.\n",
        "Input Size : |s| <= 1000000(complexity O(n))\n",
        "Sample Testcase :\n",
        "INPUT\n",
        "guvi geeks\n",
        "OUTPUT\n",
        "GuviGeeks"
      ]
    },
    {
      "cell_type": "code",
      "execution_count": null,
      "metadata": {
        "id": "3LWToM_z0g89"
      },
      "outputs": [],
      "source": [
        "s=input().split()\n",
        "r=''\n",
        "# s_new=[x.capitalize() for x in s]\n",
        "# print(s_new)\n",
        "for x in s:\n",
        "    r=r+x.capitalize()\n",
        "print(r)"
      ]
    },
    {
      "cell_type": "markdown",
      "metadata": {
        "id": "Zrm4hJ590kae"
      },
      "source": [
        "Given 2 strings S and X print the word position of X in S.(word count starts from 1).If the given word doesn't exists in S print '-1'.\n",
        "Input Size : 1 <= |s|, |x| <= 1000\n",
        "Sample Testcase :\n",
        "INPUT\n",
        "codekata coding challenge\n",
        "coding\n",
        "OUTPUT\n",
        "2"
      ]
    },
    {
      "cell_type": "code",
      "execution_count": null,
      "metadata": {
        "id": "KryIWtBv0nFS"
      },
      "outputs": [],
      "source": [
        "s=input().split() # codekata# coding challenge, coding\n",
        "x=input()\n",
        "\n",
        "print(s.index(x)+1) if x in s else print(-1)"
      ]
    },
    {
      "cell_type": "markdown",
      "metadata": {
        "id": "0pZpxLVs0s62"
      },
      "source": [
        "Given a string S change upper case to lowercase and lowercase to uppercase.\n",
        "Input Size : |s| <= 10000000(complexity O(n))\n",
        "Sample Testcase :\n",
        "INPUT\n",
        "CodEkaTa\n",
        "OUTPUT\n",
        "cODeKAtA"
      ]
    },
    {
      "cell_type": "code",
      "execution_count": null,
      "metadata": {
        "id": "KES8vDpq0vi5"
      },
      "outputs": [],
      "source": [
        "s=input()\n",
        "print(s.swapcase())"
      ]
    },
    {
      "cell_type": "markdown",
      "metadata": {
        "id": "RU_KQfpr04K0"
      },
      "source": [
        "Given a string S,count the maximum number of times a character repeated in the string.If no character is repeated print '0'.\n",
        "Input Size : 1 <= N <= 100000\n",
        "Sample Testcase :\n",
        "INPUT\n",
        "codekata\n",
        "OUTPUT\n",
        "2"
      ]
    },
    {
      "cell_type": "code",
      "execution_count": null,
      "metadata": {
        "id": "BquLOmbm08dL"
      },
      "outputs": [],
      "source": [
        "s=input()\n",
        "\n",
        "l=[s.count(x) for x in s if s.count(x)>1]\n",
        "\n",
        "print(max(l)) if len(l) !=0 else print(0)"
      ]
    },
    {
      "cell_type": "markdown",
      "metadata": {
        "id": "oFb4ZoaB03pj"
      },
      "source": [
        "Given a number N, print the sum of its first and last digit.\n",
        "Input Size : |N| <= 10000\n",
        "Sample Testcase :\n",
        "INPUT\n",
        "51233\n",
        "OUTPUT\n",
        "8"
      ]
    },
    {
      "cell_type": "code",
      "execution_count": null,
      "metadata": {
        "id": "8WVuJP0H1CNk"
      },
      "outputs": [],
      "source": [
        "s=input()\n",
        "first,last=map(int,[s[0],s[-1]])\n",
        "print(first+last)"
      ]
    },
    {
      "cell_type": "markdown",
      "metadata": {
        "id": "U1iRfaTK1MeV"
      },
      "source": [
        "You are given with string of words,we have to arrange them in reverse saturated order.\n",
        "\n",
        "Input Description:\n",
        "You are given a string ‘s’.\n",
        "\n",
        "Output Description:\n",
        "Print the reverse saturated order\n",
        "\n",
        "Sample Input :\n",
        "I am kohli fan\n",
        "Sample Output :\n",
        "I ma ilhok naf"
      ]
    },
    {
      "cell_type": "code",
      "execution_count": null,
      "metadata": {
        "id": "YCFZ__X11SsR"
      },
      "outputs": [],
      "source": [
        "s=input().split()\n",
        "r=s[0][::-1]\n",
        "\n",
        "for x in s[1:]:\n",
        "    r=r+ \" \" + x[::-1]\n",
        "\n",
        "print(r)    "
      ]
    },
    {
      "cell_type": "markdown",
      "metadata": {
        "id": "pa63yraa1WBI"
      },
      "source": [
        "Given a number N and an array of N elements, print the prefix sum array.\n",
        "Input Size : N <= 100000\n",
        "Sample Testcase :\n",
        "INPUT\n",
        "4\n",
        "2 4 4 2\n",
        "OUTPUT\n",
        "2 6 10 12"
      ]
    },
    {
      "cell_type": "code",
      "execution_count": null,
      "metadata": {
        "id": "BC65A8EH1cTg"
      },
      "outputs": [],
      "source": [
        "number=input()\n",
        "numbers=input().split()\n",
        "numbers=list(map(int,numbers))\n",
        "\n",
        "initial=0\n",
        "\n",
        "def num(x):\n",
        "    global initial\n",
        "    initial=initial+x\n",
        "    return initial\n",
        "\n",
        "output=[num(x) for x in numbers]\n",
        "print(*output)"
      ]
    },
    {
      "cell_type": "markdown",
      "metadata": {
        "id": "xbdJZrzb16E3"
      },
      "source": [
        "Given a string S consisting of a sentence, the task is to reverse every word of the sentence except the first and last character of the words.\n",
        "Sample Testcase :\n",
        "INPUT\n",
        "guvi coding platform\n",
        "OUTPUT\n",
        "gvui cnidog proftalm."
      ]
    },
    {
      "cell_type": "code",
      "execution_count": null,
      "metadata": {
        "id": "OHzxvYsM19NW"
      },
      "outputs": [],
      "source": [
        "s=input().split()\n",
        "r=''\n",
        "\n",
        "def reversing(string):\n",
        "    global r\n",
        "    r=string[0]+string[1:-1][::-1]+string[-1]\n",
        "    return r\n",
        "\n",
        "result=[reversing(x) if len(x)!=1 else x for x in s ]\n",
        "print(*result)"
      ]
    },
    {
      "cell_type": "markdown",
      "metadata": {
        "id": "-dIf2VRl2SDl"
      },
      "source": [
        "Let P represent Paper, R represent Rock and S represent Scissors. Given 2 out of the 3 determine which one wins. If its a draw print 'D'.\n",
        "Sample Testcase :\n",
        "INPUT\n",
        "R P\n",
        "OUTPUT\n",
        "P"
      ]
    },
    {
      "cell_type": "code",
      "execution_count": null,
      "metadata": {
        "id": "9ODjd2cE2Wle"
      },
      "outputs": [],
      "source": [
        "P='papper'\n",
        "R='rock'\n",
        "S='scissors'\n",
        "D='draw'\n",
        "\n",
        "x,y=input().split()\n",
        "\n",
        "if x != y:\n",
        "    print(x) if len(x)>len(y) else print(y)\n",
        "else:\n",
        "    print('D')"
      ]
    },
    {
      "cell_type": "markdown",
      "metadata": {
        "id": "x58kKrxE2ji4"
      },
      "source": [
        "Given a string 'S' and a character 'K', find at what position the character 'K' occurs for the first time in 'S'.(Assume the index of string starts at 1).If the character is not found in 'S' then print -1\n",
        "Input Size : |s| <= 100000\n",
        "Sample Testcase :\n",
        "INPUT\n",
        "codekata a\n",
        "OUTPUT\n",
        "6"
      ]
    },
    {
      "cell_type": "code",
      "execution_count": null,
      "metadata": {
        "id": "e8-kFD-v2mN_"
      },
      "outputs": [],
      "source": [
        "s,k=input().split()\n",
        "\n",
        "print(s.find(k)+1) if k in s else print(s.find(k))"
      ]
    },
    {
      "cell_type": "markdown",
      "metadata": {
        "id": "aFX9A1832pNA"
      },
      "source": [
        "Given a string S ,print the vowels first and then consonants in the same order as they have occurred in the string.\n",
        "Input Size : N <= 10000\n",
        "Sample Testcase :\n",
        "INPUT\n",
        "GuVI\n",
        "OUTPUT\n",
        "uIGV"
      ]
    },
    {
      "cell_type": "code",
      "execution_count": null,
      "metadata": {
        "id": "fQkJtinH2sFy"
      },
      "outputs": [],
      "source": [
        "s=input()\n",
        "vowels=[\"a\",\"e\",\"i\",\"o\",\"u\",'A','E','I','O','U']\n",
        "\n",
        "r=''\n",
        "\n",
        "for x in s:\n",
        "    if x in vowels:\n",
        "        r=r+x\n",
        "\n",
        "for x in s:\n",
        "    if x not in vowels:\n",
        "        r=r+x \n",
        "\n",
        "print(r) "
      ]
    },
    {
      "cell_type": "markdown",
      "metadata": {
        "id": "xak4Ugu82wE5"
      },
      "source": [
        "Find the word having maximum length in a given sentence and print it. If two words are of same length return the first occuring word of max-length.\n",
        "Input Size : |s| <= 100000\n",
        "Sample Testcase :\n",
        "INPUT\n",
        "guvi geek\n",
        "OUTPUT\n",
        "guvi"
      ]
    },
    {
      "cell_type": "code",
      "execution_count": null,
      "metadata": {
        "id": "ONvQSqDz2zIP"
      },
      "outputs": [],
      "source": [
        "s=input().split()\n",
        "l=[len(x) for x in s]\n",
        "indi=l.index(max(l))\n",
        "print(s[indi])"
      ]
    },
    {
      "cell_type": "markdown",
      "metadata": {
        "id": "_GeAZlZa3Uya"
      },
      "source": [
        "You are given a string s.Your task is to remove all the adjacent duplicate character from string.Print the string formed out of it.\n",
        "\n",
        "Input Description:\n",
        "You are given a string ‘s’\n",
        "\n",
        "Output Description:\n",
        "Print the resultant string\n",
        "\n",
        "Sample Input :\n",
        "Geeksforgeek\n",
        "Sample Output :\n",
        "Gksforgk"
      ]
    },
    {
      "cell_type": "code",
      "execution_count": null,
      "metadata": {
        "id": "pom03sbt3ZtL"
      },
      "outputs": [],
      "source": [
        "s=input()\n",
        "\n",
        "for x in range(len(s)):\n",
        "    try:\n",
        "        if s[x]==s[x+1]:\n",
        "            s=s.replace(s[x],'')\n",
        "    except:\n",
        "        pass\n",
        "print(s)"
      ]
    },
    {
      "cell_type": "markdown",
      "metadata": {
        "id": "jjYNSkwf3i6Y"
      },
      "source": [
        "Given a date(DD-MM-YYYY),print the month in words.\n",
        "Sample Testcase :\n",
        "INPUT\n",
        "01-01-2018\n",
        "OUTPUT\n",
        "January"
      ]
    },
    {
      "cell_type": "code",
      "execution_count": null,
      "metadata": {
        "id": "rdzQ4MP-3mLi"
      },
      "outputs": [],
      "source": [
        "s=input().split('-')\n",
        "months={'01':'January',\n",
        "         \"02\":'Febraury',\n",
        "         \"03\":'March',\n",
        "         '04':'April',\n",
        "         '05':'May',\n",
        "         '06':'June',\n",
        "         '07':'July',\n",
        "         '08':'August',\n",
        "         '09':'September',\n",
        "         '10':'October',\n",
        "         '11':'November',\n",
        "         '12':'December'}\n",
        "print(months[s[1]])"
      ]
    },
    {
      "cell_type": "markdown",
      "metadata": {
        "id": "5yQd32ix3wm3"
      },
      "source": [
        "you are given with two strings.Your task is to check whether one of the string is substring of the other.If substring exists,then print the starting index of sub-string.\n",
        "\n",
        "Input Description:\n",
        "You are given two strings\n",
        "\n",
        "Output Description:\n",
        "Print the index of string if substring exists else print -1\n",
        "\n",
        "Sample Input :\n",
        "Yuvi\n",
        "Yuvirat\n",
        "Sample Output :\n",
        "1"
      ]
    },
    {
      "cell_type": "code",
      "execution_count": null,
      "metadata": {
        "id": "izj032uS3wXT"
      },
      "outputs": [],
      "source": [
        "s1=input()\n",
        "s2=input()\n",
        "\n",
        "if s1 in s2:\n",
        "    indi=s2.find(s1)\n",
        "    print(indi+1)\n",
        "elif s2 in s1:\n",
        "    indi=s1.find(s2)\n",
        "    print(indi+1)    \n",
        "else:\n",
        "    print(-1)"
      ]
    },
    {
      "cell_type": "markdown",
      "metadata": {
        "id": "aMlX4MyA45aY"
      },
      "source": [
        "Given a number N followed by N numbers. Find the largest number which can be formed from the given numbers and print it.\n",
        "NOTE: Each number should be used exactly once.\n",
        "Input Size : 1 <= N <= 100000\n",
        "Sample Testcases :\n",
        "INPUT\n",
        "5\n",
        "5 6 7 8 9\n",
        "OUTPUT\n",
        "98765"
      ]
    },
    {
      "cell_type": "code",
      "execution_count": null,
      "metadata": {
        "id": "x7Lg1Brb49aD"
      },
      "outputs": [],
      "source": [
        "num=input()\n",
        "numbers=input().split()\n",
        "\n",
        "numbers.sort(reverse=True)\n",
        "largest=''\n",
        "\n",
        "for x in numbers:\n",
        "    largest=largest+x\n",
        "print(largest)"
      ]
    },
    {
      "cell_type": "markdown",
      "metadata": {
        "id": "hCmtu2MR48qC"
      },
      "source": [
        "Input Size : 1 <= N <= 100000\n",
        "Sample Testcases :\n",
        "INPUT\n",
        "Hello World\n",
        "OUTPUT\n",
        "olleH dlroW"
      ]
    },
    {
      "cell_type": "code",
      "execution_count": null,
      "metadata": {
        "id": "NJJ1U7uV5Kv0"
      },
      "outputs": [],
      "source": [
        "s=input().split()\n",
        "reversed=[x[::-1] for x in s]\n",
        "print(*reversed)\n"
      ]
    },
    {
      "cell_type": "markdown",
      "metadata": {
        "id": "iXWDvLRR5adz"
      },
      "source": [
        "Given 2 strings S1 and S2. Find if String2 is substring of String1. If it is print the index of the first occurrence. else print -1.\n",
        "Input Size : 1<= N <= 100000\n",
        "Sample Testcases :\n",
        "1)INPUT\n",
        "test123string\n",
        "123\n",
        "OUTPUT\n",
        "4"
      ]
    },
    {
      "cell_type": "code",
      "execution_count": null,
      "metadata": {
        "id": "uSx77FaK5dBC"
      },
      "outputs": [],
      "source": [
        "s1=input()\n",
        "s2=input()\n",
        "\n",
        "if s2 in s1:\n",
        "    indi=s1.find(s2)\n",
        "    print(indi)    \n",
        "else:\n",
        "    print(-1)"
      ]
    },
    {
      "cell_type": "markdown",
      "metadata": {
        "id": "lsRy003F5fsN"
      },
      "source": [
        "Given a string S and a number K. Print all the substrings of S of length K(space separeted output).\n",
        "Input Size : |S| <= 100 and K<= 50\n",
        "Sample Testcase :\n",
        "INPUT\n",
        "prog 2\n",
        "OUTPUT\n",
        "pr ro og"
      ]
    },
    {
      "cell_type": "code",
      "execution_count": null,
      "metadata": {
        "id": "TvoyWYVQ5iaF"
      },
      "outputs": [],
      "source": [
        "s,k=input().split()\n",
        "k=int(k)\n",
        "\n",
        "subs=[s[x:x+k] for x in range(len(s)) if (x+k)<=len(s)]\n",
        "print(*subs)"
      ]
    },
    {
      "cell_type": "markdown",
      "metadata": {
        "id": "bSMCOn0h5lRv"
      },
      "source": [
        "Given a roman numeral N, convert it into integer.Take L=50, C=100.If it is not a valid roman numeral print '-1'\n",
        "Input Size : N <= 100\n",
        "Sample Testcase :\n",
        "INPUT\n",
        "VI\n",
        "OUTPUT\n",
        "6\n",
        "INPUT\n",
        "Y\n",
        "OUTPUT\n",
        "-1"
      ]
    },
    {
      "cell_type": "code",
      "execution_count": null,
      "metadata": {
        "id": "L7Labqeq5pvG"
      },
      "outputs": [],
      "source": [
        "s=input().upper()\n",
        "\n",
        "def roman(string):\n",
        "    values={'I':1,\n",
        "        'V':5,\n",
        "        'X':10,\n",
        "        'L':50,\n",
        "        'C':100}\n",
        "    num=0\n",
        "    for x in string:\n",
        "        if x in values:\n",
        "            num=num+values[x]\n",
        "        else:\n",
        "            return -1    \n",
        "    return num    \n",
        "\n",
        "print(roman(s))"
      ]
    },
    {
      "cell_type": "markdown",
      "metadata": {
        "id": "kvmW2DZj5uyS"
      },
      "source": [
        "Roman Reigns want to identify the repeated letters in two given strings and capitalize it.Help him to achieve it.\n",
        "Sample Testcase :\n",
        "INPUT\n",
        "computer program\n",
        "OUTPUT\n",
        "cOMPuteR PROgRaM"
      ]
    },
    {
      "cell_type": "code",
      "execution_count": null,
      "metadata": {
        "id": "YARjrrcY5yl6"
      },
      "outputs": [],
      "source": [
        "s=input()\n",
        "\n",
        "for x in s:\n",
        "    if s.count(x)>1:\n",
        "        s=s.replace(x,x.upper())\n",
        "        \n",
        "    \n",
        "print(s)"
      ]
    },
    {
      "cell_type": "markdown",
      "metadata": {
        "id": "8Gmi50qb6kW7"
      },
      "source": [
        "Given 2 strings S,X. Print 'yes' if their lengths are co-prime otherwise print 'no'.\n",
        "Input Size : 1 <= |s|, |x| <= 100000\n",
        "Sample Testcase :\n",
        "INPUT\n",
        "GUVIS GEEKTEC\n",
        "OUTPUT\n",
        "yes"
      ]
    },
    {
      "cell_type": "code",
      "execution_count": null,
      "metadata": {
        "id": "VRvx-J866nwf"
      },
      "outputs": [],
      "source": [
        "import math\n",
        "\n",
        "s1,s2=input().split()\n",
        "\n",
        "l1=len(s1)\n",
        "l2=len(s2)   \n",
        "\n",
        "gcd=math.gcd(l1,l2)\n",
        "\n",
        "print('yes') if gcd==1 else print('no')"
      ]
    },
    {
      "cell_type": "markdown",
      "metadata": {
        "id": "WlZEOaki6q6A"
      },
      "source": [
        "Given 2 strings P,Q of length N,M generate a password from two strings by combining corresponding index letter of each string.If the any one string is less than the other then numbers starting from1,2,3.... are taken to equate the length of the strings.\n",
        "Explanation:If the strings are Abi & Bhuvana then the password is ABbhiu1v2a3n4a-\n",
        "Input Size : 1 <= N, M <= 100000\n",
        "Sample Testcase :\n",
        "INPUT\n",
        "Vishal Yadav\n",
        "OUTPUT\n",
        "VYiasdhavl1"
      ]
    },
    {
      "cell_type": "code",
      "execution_count": null,
      "metadata": {
        "id": "_GLeMYv76tcm"
      },
      "outputs": [],
      "source": [
        "s1,s2=input().split()\n",
        "password=''\n",
        "num=1\n",
        "\n",
        "if len(s1)>=len(s2):\n",
        "\n",
        "    for x in range(len(s1)):\n",
        "        try:\n",
        "            password=password+s1[x]+s2[x]\n",
        "        except:\n",
        "            password=password+s1[x]+str(num)\n",
        "            num+=1\n",
        "else:\n",
        "    for x in range(len(s2)):\n",
        "        try:\n",
        "            password=password+s1[x]+s2[x]\n",
        "        except:\n",
        "            password=password+str(num)+s2[x]\n",
        "            num+=1\n",
        "\n",
        "print(password)"
      ]
    },
    {
      "cell_type": "markdown",
      "metadata": {
        "id": "YuK3u4Pt6zmW"
      },
      "source": [
        "Given a string S of length N, reverse every word in place.\n",
        "Input Size : 1 <= N <= 100000\n",
        "Sample Testcase :\n",
        "INPUT\n",
        "abcd er x\n",
        "OUTPUT\n",
        "dcba re x"
      ]
    },
    {
      "cell_type": "code",
      "execution_count": null,
      "metadata": {
        "id": "3KotOvII62Pd"
      },
      "outputs": [],
      "source": [
        "s=input().split()\n",
        "\n",
        "reversed=[x[::-1] for x in s]\n",
        "\n",
        "print(*reversed)"
      ]
    },
    {
      "cell_type": "markdown",
      "metadata": {
        "id": "VOkAeQJ47B1t"
      },
      "source": [
        "Given N strings and a prefix string p. Find how many of the N strings have p as their prefix.\n",
        "for eg: String[] input={'100','111','10100','10','1111'} prefix='10'\n",
        "output=2\n",
        "Input Size : N <= 100000, string length <=1000, prefix length <=100\n",
        "Sample Testcase :\n",
        "INPUT\n",
        "5\n",
        "100 111 10100 10 1111\n",
        "10\n",
        "OUTPUT\n",
        "3"
      ]
    },
    {
      "cell_type": "code",
      "execution_count": null,
      "metadata": {
        "id": "xB5XR2mI7DE8"
      },
      "outputs": [],
      "source": [
        "n=input()\n",
        "s=input().split()\n",
        "prefix=input()\n",
        "num=0\n",
        "for x in s:\n",
        "    if prefix in x and x.find(prefix)==0 :\n",
        "        num+=1 \n",
        "print(num)"
      ]
    },
    {
      "cell_type": "markdown",
      "metadata": {
        "id": "AvBnK1k27Hsx"
      },
      "source": [
        "Given a string S, remove the characters which exist more than one times,and print the remaining string.\n",
        "Input Size : |S| <= 10000000\n",
        "Sample Testcase :\n",
        "INPUT\n",
        "Engineering\n",
        "OUTPUT\n",
        "Er"
      ]
    },
    {
      "cell_type": "code",
      "execution_count": null,
      "metadata": {
        "id": "Tj9uSGA47Kf6"
      },
      "outputs": [],
      "source": [
        "s=input()\n",
        "\n",
        "for x in s:\n",
        "    if s.count(x)>1:\n",
        "        s=s.replace(x,'')\n",
        "\n",
        "print(s)"
      ]
    },
    {
      "cell_type": "markdown",
      "metadata": {
        "id": "9PrWo57b7Oxa"
      },
      "source": [
        "Given a string S of length N, reverse the words at odd positions.\n",
        "Input Size: 1 <= N <= 100000\n",
        "Sample Testcase :\n",
        "INPUT\n",
        "This is an example for this question\n",
        "OUTPUT\n",
        "sihT is na example rof this noitseuq"
      ]
    },
    {
      "cell_type": "code",
      "execution_count": null,
      "metadata": {
        "id": "gx4AtYPt7Rbr"
      },
      "outputs": [],
      "source": [
        "s=input().split()\n",
        "\n",
        "for x in range(len(s)):\n",
        "    if x%2==0:\n",
        "        s[x]=s[x][::-1]\n",
        "    else:\n",
        "        pass\n",
        "\n",
        "print(*s)"
      ]
    },
    {
      "cell_type": "markdown",
      "metadata": {
        "id": "IsCY2X1I7cHh"
      },
      "source": [
        "Given two strings S1 and S2,display 'yes' if given two strings are complementary otherwise display 'no'. If we join alphabets of both the strings we should get all 26 capital letters exactly once, then only we can call them as complementary.\n",
        "Sample Testcase :\n",
        "INPUT\n",
        "ABDCFGIJKLMNOPQUVWXYZ\n",
        "EHRST\n",
        "OUTPUT\n",
        "yes"
      ]
    },
    {
      "cell_type": "code",
      "execution_count": null,
      "metadata": {
        "id": "XRrrFLBg7e6h"
      },
      "outputs": [],
      "source": [
        "s1=input()\n",
        "s2=input()\n",
        "s=s1+s2\n",
        "num=0\n",
        "\n",
        "if len(s)==26:\n",
        "    for x in s:\n",
        "        if x.isupper()==True and s.count(x)==1:\n",
        "            num+=1\n",
        "    print('yes') if num==26 else print('no')        \n",
        "else:\n",
        "    print('no')"
      ]
    },
    {
      "cell_type": "markdown",
      "metadata": {
        "id": "46pyMJq77nkN"
      },
      "source": [
        "Given a sequence of strings remove extra spaces in the string(there can be atmost one space between 2 strings).\n",
        "Input Size : 1<= N <= 100000\n",
        "Sample Testcases :\n",
        "INPUT\n",
        "aa abba abba\n",
        "OUTPUT\n",
        "aa abba abba"
      ]
    },
    {
      "cell_type": "code",
      "execution_count": null,
      "metadata": {
        "id": "eeWcpxM67sBl"
      },
      "outputs": [],
      "source": [
        "s=input().split() # splitting the input string at spaces and storing in a list\n",
        "s_New=s[0] # storing the first element of list in a string\n",
        "for x in range(1,len(s)): # for loop runs from 2nd element of the list to the end\n",
        "    s_New=s_New+\" \"+s[x].strip() # every element of the lsit except the first element is added with trimmed spaces and one space is added inbetween each word\n",
        "print(s_New)"
      ]
    },
    {
      "cell_type": "markdown",
      "metadata": {
        "id": "ie2-9pXr7wfb"
      },
      "source": [
        "Given a string S consisting of 2 words reverse the order of two words .\n",
        "Input Size : |S| <= 10000000\n",
        "Sample Testcase :\n",
        "INPUT\n",
        "hello world\n",
        "OUTPUT\n",
        "world hello"
      ]
    },
    {
      "cell_type": "code",
      "execution_count": null,
      "metadata": {
        "id": "0X-Mm4gw7zoj"
      },
      "outputs": [],
      "source": [
        "a=input().split()\n",
        "#print(a)\n",
        "print(a[1]+\" \"+a[0])"
      ]
    },
    {
      "cell_type": "markdown",
      "metadata": {
        "id": "vKUtEwNJ73H5"
      },
      "source": [
        "Given 2 strings S and A find the longest common substring.If no common substring is found print '-1'\n",
        "Input Size : |s| <= 1000, |A| <= 1000\n",
        "Sample Testcase :\n",
        "INPUT\n",
        "codekata code\n",
        "OUTPUT\n",
        "code"
      ]
    },
    {
      "cell_type": "code",
      "execution_count": null,
      "metadata": {
        "id": "lqELIKCt76VD"
      },
      "outputs": [],
      "source": [
        "S,A=input().split()\n",
        "\n",
        "# s1=input()\n",
        "# s2=input()\n",
        "\n",
        "if S in A:\n",
        "    # indi=s2.find(s1)\n",
        "    print(S)\n",
        "elif A in S:\n",
        "    # indi=s1.find(s2)\n",
        "    print(A)    \n",
        "else:\n",
        "    print(-1)"
      ]
    },
    {
      "cell_type": "markdown",
      "metadata": {
        "id": "g-Rk1qwv72TU"
      },
      "source": [
        "Given two numbers S1 and S2 represented as strings, return multiplication of the numbers as a string.\n",
        "NOTE: The numbers can be arbitrarily large and are nonnegative.\n",
        "Sample Testcase :\n",
        "INPUT\n",
        "2 10\n",
        "OUTPUT\n",
        "20"
      ]
    },
    {
      "cell_type": "code",
      "execution_count": null,
      "metadata": {
        "id": "zERBqWGT8DJk"
      },
      "outputs": [],
      "source": [
        "s=input().split()\n",
        "s1,s2=map(int,s)\n",
        "print(s1*s2)"
      ]
    },
    {
      "cell_type": "markdown",
      "metadata": {
        "id": "oupZBKD08MRQ"
      },
      "source": [
        "Given three numbers L,R,N, print the count of numbers with occurences of the number N in [L,R].\n",
        "Input Size : 1 <= L,R,N <= 100000\n",
        "Sample Testcase :\n",
        "INPUT\n",
        "10 130 11\n",
        "OUTPUT\n",
        "11\n",
        "Explanation: 11,110,111,112....119"
      ]
    },
    {
      "cell_type": "code",
      "execution_count": null,
      "metadata": {
        "id": "cpqnx80T8QiF"
      },
      "outputs": [],
      "source": [
        "L,R,N=input().split()\n",
        "L,R=map(int,[L,R])\n",
        "numbers=[x for x in range(L,R+1)]\n",
        "numbers=list(map(str,numbers))\n",
        "count=[x for x in numbers if N in x]\n",
        "print(len(count))"
      ]
    },
    {
      "cell_type": "markdown",
      "metadata": {
        "id": "LsbHDaBa8gsG"
      },
      "source": [
        "Given a string S of length N, find if it forms a Palindrome after deleting 1 character.\n",
        "Input Size : 1 <= N <= 100000\n",
        "Sample Testcases :\n",
        "INPUT\n",
        "abxba\n",
        "OUTPUT\n",
        "YES"
      ]
    },
    {
      "cell_type": "code",
      "execution_count": null,
      "metadata": {
        "id": "Lfx9T0o_8jLn"
      },
      "outputs": [],
      "source": [
        "s=input()\n",
        "a=bool\n",
        "for x in s:\n",
        "    t=s.replace(x,'',1)\n",
        "    # print(t)\n",
        "    if t==t[::-1]:\n",
        "        a=True\n",
        "        # print(t)\n",
        "        break\n",
        "    else:\n",
        "        pass\n",
        "print('YES') if a==True else print('NO')"
      ]
    },
    {
      "cell_type": "markdown",
      "metadata": {
        "id": "Y5Zb_qY785mu"
      },
      "source": [
        "Given an arraylist A of string type which has name#mark1#mark2#mark3 format. Retrieve the name of the student who has scored max marks(total of three).\n",
        "for eg: input: {'arun#12#12#12','deepak#13#12#12'}\n",
        "output: Deepak\n",
        "Input Size : A <= 100000\n",
        "Sample Testcase :\n",
        "INPUT\n",
        "arun#12#12#12\n",
        "deepak#13#12#12\n",
        "OUTPUT\n",
        "deepak"
      ]
    },
    {
      "cell_type": "code",
      "execution_count": null,
      "metadata": {
        "id": "iOUiBsoe9Cu6"
      },
      "outputs": [],
      "source": [
        "s1=input().split('#')\n",
        "s2=input().split('#')\n",
        "\n",
        "s1_marks=list(map(int,s1[1:]))\n",
        "s2_marks=list(map(int,s2[1:]))\n",
        "\n",
        "s1_total=0\n",
        "s2_total=0\n",
        "\n",
        "for x in s1_marks:\n",
        "    s1_total=s1_total+x\n",
        "\n",
        "for x in s2_marks:\n",
        "    s2_total=s2_total+x\n",
        "\n",
        "print(s1[0]) if s1_total>s2_total else print(s2[0])"
      ]
    },
    {
      "cell_type": "markdown",
      "metadata": {
        "id": "YNwgJBXt9WDF"
      },
      "source": [
        "### **Looping**"
      ]
    },
    {
      "cell_type": "markdown",
      "metadata": {
        "id": "RDb87nnQ9aca"
      },
      "source": [
        "Write a code to get 2 integers A and N. Print the integer A, N times in separate line.\n",
        "\n",
        "Input Description:\n",
        "First line contains an integer A. Second line contains an Integer N.\n",
        "\n",
        "Output Description:\n",
        "Print the integer A, N times in a separate line.\n",
        "\n",
        "Sample Input :\n",
        "2 3\n",
        "Sample Output :\n",
        "2\n",
        "2\n",
        "2"
      ]
    },
    {
      "cell_type": "code",
      "execution_count": null,
      "metadata": {
        "id": "U8HqYQPz9mCb"
      },
      "outputs": [],
      "source": [
        "a=input().split(\" \")\n",
        "b=[int(x) for x in a]   \n",
        "#print(b)\n",
        "n,m=b\n",
        "for x in range(m):\n",
        "    print(n)"
      ]
    },
    {
      "cell_type": "markdown",
      "metadata": {
        "id": "NqldlANG9pBL"
      },
      "source": [
        "Write a code to get a integer n as input and calculate the smallest perfect power of 2 greater than n.\n",
        "\n",
        "Input Description:\n",
        "A single line containing an integer,n.\n",
        "\n",
        "Output Description:\n",
        "Print the smallest perfect power of 2 greater than n.\n",
        "\n",
        "Sample Input :\n",
        "48\n",
        "Sample Output :\n",
        "64"
      ]
    },
    {
      "cell_type": "code",
      "execution_count": null,
      "metadata": {
        "id": "w0vsuqdF9tUj"
      },
      "outputs": [],
      "source": [
        "n=int(input())\n",
        "perfect_Power = [int(2**x) for x in range(int(n/2))]\n",
        "#print(perfect_Power)\n",
        "for j in perfect_Power:\n",
        "    if j>n:\n",
        "       print(j)\n",
        "       break"
      ]
    },
    {
      "cell_type": "markdown",
      "metadata": {
        "id": "jyKWETeB9uXU"
      },
      "source": [
        "Write a code to get the input and print it 5 times.\n",
        "\n",
        "Input Description:\n",
        "A single line contains an integer N.\n",
        "\n",
        "Output Description:\n",
        "Output contains 5 lines with each line having the value N.\n",
        "\n",
        "Sample Input :\n",
        "4\n",
        "Sample Output :\n",
        "4\n",
        "4\n",
        "4\n",
        "4\n",
        "4"
      ]
    },
    {
      "cell_type": "code",
      "execution_count": null,
      "metadata": {
        "id": "0NdVhiLa92NM"
      },
      "outputs": [],
      "source": [
        "a=input()\n",
        "for x in range(5):\n",
        "    print(a)"
      ]
    },
    {
      "cell_type": "markdown",
      "metadata": {
        "id": "Y8cCzm5i99Ff"
      },
      "source": [
        "Write a code to get an integer N and print values from 1 till N in a separate line.\n",
        "\n",
        "Input Description:\n",
        "A single line contains an integer N.\n",
        "\n",
        "Output Description:\n",
        "Print the values from 1 to N in a separate line.\n",
        "\n",
        "Sample Input :\n",
        "5\n",
        "Sample Output :\n",
        "1\n",
        "2\n",
        "3\n",
        "4\n",
        "5"
      ]
    },
    {
      "cell_type": "code",
      "execution_count": null,
      "metadata": {
        "id": "HRJi5eUi-AbQ"
      },
      "outputs": [],
      "source": [
        "N=int(input())\n",
        "for x in range(1,N+1):\n",
        "    print(x)"
      ]
    },
    {
      "cell_type": "markdown",
      "metadata": {
        "id": "Ae9uFuPo-DhH"
      },
      "source": [
        "Write a code to get 2 integers as input and find the HCF of the 2 integer without using recursion or Euclidean algorithm.\n",
        "\n",
        "Input Description:\n",
        "A single line containing 2 integers separated by space.\n",
        "\n",
        "Output Description:\n",
        "Print the HCF of the integers.\n",
        "\n",
        "Sample Input :\n",
        "2 3\n",
        "Sample Output :\n",
        "1"
      ]
    },
    {
      "cell_type": "code",
      "execution_count": null,
      "metadata": {
        "id": "XKUsuITz-Gtj"
      },
      "outputs": [],
      "source": [
        "import math\n",
        "\n",
        "nums=input().split()\n",
        "nums=list(map(int,nums))\n",
        "m,n=nums\n",
        "gcd=math.gcd(m,n)\n",
        "print(gcd)"
      ]
    },
    {
      "cell_type": "markdown",
      "metadata": {
        "id": "RITUJTAZ-NVz"
      },
      "source": [
        "Write a code to get an integer N and print the digits of the integer.\n",
        "\n",
        "Input Description:\n",
        "A single line contains an integer N.\n",
        "\n",
        "Output Description:\n",
        "Print the digits of the integer in a single line separated by space,\n",
        "\n",
        "Sample Input :\n",
        "348\n",
        "Sample Output :\n",
        "3 4 8"
      ]
    },
    {
      "cell_type": "code",
      "execution_count": null,
      "metadata": {
        "id": "EkS3VoXe-P4Y"
      },
      "outputs": [],
      "source": [
        "a=input()\n",
        "b=[x for x in a]\n",
        "print(*b)"
      ]
    },
    {
      "cell_type": "markdown",
      "metadata": {
        "id": "mXpoZl0m-ZU9"
      },
      "source": [
        "Write a code to get an integer N and print the values from N to 1.\n",
        "\n",
        "Input Description:\n",
        "A single line contains an integer N.\n",
        "\n",
        "Output Description:\n",
        "Print the values from N to 1 in a separate line.\n",
        "\n",
        "Sample Input :\n",
        "10\n",
        "Sample Output :\n",
        "10\n",
        "9\n",
        "8\n",
        "7\n",
        "6\n",
        "5\n",
        "4\n",
        "3\n",
        "2\n",
        "1"
      ]
    },
    {
      "cell_type": "code",
      "execution_count": null,
      "metadata": {
        "id": "0El0e9I4-brg"
      },
      "outputs": [],
      "source": [
        "n=int(input())\n",
        "num=n+1\n",
        "for x in range(1,n+1):\n",
        "    num = num-1\n",
        "    print(num)"
      ]
    },
    {
      "cell_type": "markdown",
      "metadata": {
        "id": "ZoCeIp1j-wUc"
      },
      "source": [
        "Write a program to get a string as input and reverse the string without using temporary variable.\n",
        "\n",
        "Input Description:\n",
        "A single line containing a string.\n",
        "\n",
        "Output Description:\n",
        "Print the reversed string.\n",
        "\n",
        "Sample Input :\n",
        "GUVI\n",
        "Sample Output :\n",
        "IVUG"
      ]
    },
    {
      "cell_type": "code",
      "execution_count": null,
      "metadata": {
        "id": "h6imQkN4-zKx"
      },
      "outputs": [],
      "source": [
        "s=input()\n",
        "s=s[::-1]\n",
        "print(s)"
      ]
    },
    {
      "cell_type": "markdown",
      "metadata": {
        "id": "Yv_SSb_v-wOW"
      },
      "source": [
        "Write a code get an integer number as input and print the sum of the digits.\n",
        "\n",
        "Input Description:\n",
        "A single line containing an integer.\n",
        "\n",
        "Output Description:\n",
        "Print the sum of the digits of the integer.\n",
        "\n",
        "Sample Input :\n",
        "124\n",
        "Sample Output :\n",
        "7"
      ]
    },
    {
      "cell_type": "code",
      "execution_count": null,
      "metadata": {
        "id": "djEmX868-5TX"
      },
      "outputs": [],
      "source": [
        "a=input()\n",
        "sum=0\n",
        "for x in range(len(a)):\n",
        "    sum += int(a[x])\n",
        "print(sum)"
      ]
    },
    {
      "cell_type": "markdown",
      "metadata": {
        "id": "giYaHQoX--zv"
      },
      "source": [
        "Write a code to get an integer N and print the sum of  values from 1 to N.\n",
        "\n",
        "Input Description:\n",
        "A single line contains an integer N.\n",
        "\n",
        "Output Description:\n",
        "Print the sum of values from 1 to N.\n",
        "\n",
        "Sample Input :\n",
        "10\n",
        "Sample Output :\n",
        "55"
      ]
    },
    {
      "cell_type": "code",
      "execution_count": null,
      "metadata": {
        "id": "PKhHV_vW--cg"
      },
      "outputs": [],
      "source": [
        "N=int(input())\n",
        "sum=N*(N+1)/2\n",
        "print(int(sum))"
      ]
    },
    {
      "cell_type": "markdown",
      "metadata": {
        "id": "69NRaDOC_L51"
      },
      "source": [
        "Write a code get an integer number as input and print the odd and even digits of the number separately.\n",
        "\n",
        "Input Description:\n",
        "A single line containing an integer.\n",
        "\n",
        "Output Description:\n",
        "Print the even and odd integers of the integer in a separate line.\n",
        "\n",
        "Sample Input :\n",
        "1234\n",
        "Sample Output :\n",
        "2 4\n",
        "1 3"
      ]
    },
    {
      "cell_type": "code",
      "execution_count": null,
      "metadata": {
        "id": "Joybaysr_Ofv"
      },
      "outputs": [],
      "source": [
        "n=input()\n",
        "m=list(map(int,n))\n",
        "\n",
        "\n",
        "l1=list(filter(lambda x: x%2!=0,m))\n",
        "l2=list(filter(lambda x: x%2==0,m))\n",
        "\n",
        "l1.sort()\n",
        "l2.sort()\n",
        "\n",
        "print(*l2)\n",
        "print(*l1)"
      ]
    },
    {
      "cell_type": "markdown",
      "metadata": {
        "id": "Hl-fWW59_Rpk"
      },
      "source": [
        "Write a code to get an integer N and print the even values from 1 till N in a separate line.\n",
        "\n",
        "Input Description:\n",
        "A single line contains an integer N.\n",
        "\n",
        "Output Description:\n",
        "Print the even values from 1 to N in a separate line.\n",
        "\n",
        "Sample Input :\n",
        "6\n",
        "Sample Output :\n",
        "2\n",
        "4\n",
        "6"
      ]
    },
    {
      "cell_type": "code",
      "execution_count": null,
      "metadata": {
        "id": "37XNzijT_UgQ"
      },
      "outputs": [],
      "source": [
        "n=int(input())\n",
        "for x in range(1,n+1):\n",
        "    if x%2==0:\n",
        "        print(x)"
      ]
    },
    {
      "cell_type": "markdown",
      "metadata": {
        "id": "01XB53SV_ZXY"
      },
      "source": [
        "Write a code to get 2 integers as input and add the integers without any carry.\n",
        "\n",
        "Input Description:\n",
        "A single line containing 2 integers.\n",
        "\n",
        "Output Description:\n",
        "Print sum of the 2 integers without carry\n",
        "\n",
        "Sample Input :\n",
        "44 66\n",
        "Sample Output :\n",
        "0"
      ]
    },
    {
      "cell_type": "code",
      "execution_count": null,
      "metadata": {
        "id": "85U0I5BR_cj6"
      },
      "outputs": [],
      "source": [
        "a, b = list(map(int, input().split()))\n",
        "\n",
        "c = a + b\n",
        "\n",
        "d = str(c)\n",
        "A = str(a)\n",
        "B = str(b)\n",
        "\n",
        "if c < 110 and ( len(d) > len(A) or len(d) > len(B)) :\n",
        "    print(d[-1])\n",
        "    \n",
        "elif c > 110 :\n",
        "    print((c - 100)/2)\n",
        "    \n",
        "else:\n",
        "    print(c)"
      ]
    },
    {
      "cell_type": "markdown",
      "metadata": {
        "id": "_L6c_5kHAyou"
      },
      "source": [
        "### **GUVI-Learning Path**"
      ]
    },
    {
      "cell_type": "markdown",
      "metadata": {
        "id": "ubByonyKDTNM"
      },
      "source": [
        "Given 2 numbers N,K and an array of N integers, find if the element K exists in the array.\n",
        "Input Size : N <= 100000\n",
        "Sample Testcase :\n",
        "INPUT\n",
        "5 2\n",
        "1 2 3 4 5\n",
        "OUTPUT\n",
        "yes\n",
        "HINT: Read about Binary Search"
      ]
    },
    {
      "cell_type": "code",
      "execution_count": null,
      "metadata": {
        "id": "NS6MePc8DSM2"
      },
      "outputs": [],
      "source": [
        "s=input().split()\n",
        "n,k=list(map(int,s))\n",
        "integers=input().split()\n",
        "integers=list(map(int,integers))\n",
        "print('yes') if k in integers else print('no')"
      ]
    },
    {
      "cell_type": "markdown",
      "metadata": {
        "id": "gVnjF4MRBE1v"
      },
      "source": [
        "You are given with an array. For each element present in the array your task is to print the next smallest than that number. If it is not smallest print -1\n",
        "\n",
        "Input Description:\n",
        "You are given a number ‘n’ representing size of array. And n space separated numbers.\n",
        "\n",
        "Output Description:\n",
        "Print the next smallest number present in array and -1 if no smallest is present\n",
        "\n",
        "Sample Input :\n",
        "7\n",
        "10 7 9 3 2 1 15\n",
        "Sample Output :\n",
        "7 3 3 2 1 -1 -1"
      ]
    },
    {
      "cell_type": "code",
      "execution_count": null,
      "metadata": {
        "id": "t2riFbHeFeTN"
      },
      "outputs": [],
      "source": [
        "n=int(input())\n",
        "elements=list(map(int,input().split()))\n",
        "smallest_number=[]\n",
        "for i in range(n):\n",
        "    is_added=0\n",
        "    for j in range(i,n):\n",
        "        if elements[i]>elements[j]:\n",
        "            smallest_number.append(elements[j])\n",
        "            is_added=1\n",
        "            break \n",
        "    if is_added==0:\n",
        "        smallest_number.append(-1)\n",
        "print(*smallest_number)"
      ]
    },
    {
      "cell_type": "markdown",
      "metadata": {
        "id": "QKsue2MTFhJN"
      },
      "source": [
        "You are given a string s.Your task is to remove all the adjacent duplicate character from string.Print the string formed out of it.\n",
        "\n",
        "Input Description:\n",
        "You are given a string ‘s’\n",
        "\n",
        "Output Description:\n",
        "Print the resultant string\n",
        "\n",
        "Sample Input :\n",
        "Geeksforgeek\n",
        "Sample Output :\n",
        "Gksforgk"
      ]
    },
    {
      "cell_type": "code",
      "execution_count": null,
      "metadata": {
        "id": "8qioDhw_FuDr"
      },
      "outputs": [],
      "source": [
        "s=input()\n",
        "\n",
        "for x in range(len(s)):\n",
        "    try:\n",
        "        if s[x]==s[x+1]:\n",
        "            s=s.replace(s[x],'')\n",
        "    except:\n",
        "        pass\n",
        "print(s)"
      ]
    },
    {
      "cell_type": "markdown",
      "metadata": {
        "id": "qEKSoEIOF7kD"
      },
      "source": [
        "Given a roman numeral N, convert it into integer.Take L=50, C=100.If it is not a valid roman numeral print '-1'\n",
        "Input Size : N <= 100\n",
        "Sample Testcase :\n",
        "INPUT\n",
        "VI\n",
        "OUTPUT\n",
        "6\n",
        "INPUT\n",
        "Y\n",
        "OUTPUT\n",
        "-1"
      ]
    },
    {
      "cell_type": "code",
      "execution_count": null,
      "metadata": {
        "id": "ws19kStAF8oF"
      },
      "outputs": [],
      "source": [
        "s=input().upper()\n",
        "\n",
        "def roman(string):\n",
        "    values={'I':1,\n",
        "        'V':5,\n",
        "        'X':10,\n",
        "        'L':50,\n",
        "        'C':100}\n",
        "    num=0\n",
        "    for x in string:\n",
        "        if x in values:\n",
        "            num=num+values[x]\n",
        "        else:\n",
        "            return -1    \n",
        "    return num    \n",
        "\n",
        "print(roman(s))"
      ]
    },
    {
      "cell_type": "markdown",
      "metadata": {
        "id": "JkQoRicwGAd9"
      },
      "source": [
        "Given 2 strings S1 and S2. Find if String2 is substring of String1. If it is print the index of the first occurrence. else print -1.\n",
        "Input Size : 1<= N <= 100000\n",
        "Sample Testcases :\n",
        "1)INPUT\n",
        "test123string\n",
        "123\n",
        "OUTPUT\n",
        "4"
      ]
    },
    {
      "cell_type": "code",
      "execution_count": null,
      "metadata": {
        "id": "dlgbCbrJGKJR"
      },
      "outputs": [],
      "source": [
        "s1=input()\n",
        "s2=input()\n",
        "\n",
        "if s2 in s1:\n",
        "    indi=s1.find(s2)\n",
        "    print(indi)    \n",
        "else:\n",
        "    print(-1)"
      ]
    },
    {
      "cell_type": "markdown",
      "metadata": {
        "id": "PFeJ6NkEKKQF"
      },
      "source": [
        "### **Input & Output**"
      ]
    },
    {
      "cell_type": "markdown",
      "metadata": {
        "id": "WogCi2URKVWS"
      },
      "source": [
        "Write a code to get the input in the given format and print the output in the given format.\n",
        "\n",
        "Input Description:\n",
        "A single line contains a string.\n",
        "\n",
        "Output Description:\n",
        "Print the characters in a string separated by comma.\n",
        "\n",
        "Sample Input :\n",
        "guvi\n",
        "Sample Output :\n",
        "g,u,v,i"
      ]
    },
    {
      "cell_type": "code",
      "execution_count": null,
      "metadata": {
        "id": "_ygaSePiKPN1"
      },
      "outputs": [],
      "source": [
        "a=list(input())\n",
        "print(*a,sep=\",\")"
      ]
    },
    {
      "cell_type": "markdown",
      "metadata": {
        "id": "aTHSL6DbKgU0"
      },
      "source": [
        "Write a code to get the input in the given format and print the output in the given format.\n",
        "\n",
        "Input Description:\n",
        "A single line contains a string.\n",
        "\n",
        "Output Description:\n",
        "Print the characters in a string separated by line.\n",
        "\n",
        "Sample Input :\n",
        "guvigeek\n",
        "Sample Output :\n",
        "g\n",
        "u\n",
        "v\n",
        "i\n",
        "g\n",
        "e\n",
        "e\n",
        "k"
      ]
    },
    {
      "cell_type": "code",
      "execution_count": null,
      "metadata": {
        "id": "SWuTIYhIKhL7"
      },
      "outputs": [],
      "source": [
        "x=list(input())\n",
        "for i in x:\n",
        "    print(i)"
      ]
    },
    {
      "cell_type": "markdown",
      "metadata": {
        "id": "OASRgXtpKmKb"
      },
      "source": [
        "Write a code to get the input in the given format and print the output in the given format.\n",
        "\n",
        "Input Description:\n",
        "A single line contains three float values separated by space.\n",
        "\n",
        "Output Description:\n",
        "Print the float value separated by line.\n",
        "\n",
        "Sample Input :\n",
        "2.3 4.5 7.8\n",
        "Sample Output :\n",
        "2.3\n",
        "4.5\n",
        "7.8"
      ]
    },
    {
      "cell_type": "code",
      "execution_count": null,
      "metadata": {
        "id": "AvMRrRsAKpC-"
      },
      "outputs": [],
      "source": [
        "x=input().split()\n",
        "y=list(map(float,x))\n",
        "for i in y:\n",
        "    print(i)"
      ]
    },
    {
      "cell_type": "markdown",
      "metadata": {
        "id": "rnZR62qLKriy"
      },
      "source": [
        "Write a code to get the input in the given format and print the output in the given format\n",
        "\n",
        "Input Description:\n",
        "A single line contains a string.\n",
        "\n",
        "Output Description:\n",
        "Print the characters in a string separated by space.\n",
        "\n",
        "Sample Input :\n",
        "guvi\n",
        "Sample Output :\n",
        "g u v i"
      ]
    },
    {
      "cell_type": "code",
      "execution_count": null,
      "metadata": {
        "id": "pz3Xe3tnKttR"
      },
      "outputs": [],
      "source": [
        "a=list(input())\n",
        "print(*a)"
      ]
    },
    {
      "cell_type": "markdown",
      "metadata": {
        "id": "yJO2NqL6KwX-"
      },
      "source": [
        "Write a code to get the input in the given format and print the output in the given format\n",
        "\n",
        "Input Description:\n",
        "First-line indicates two integers separated by space. Second-line indicates three integers separated by space. Third-line indicates three integers separated by space\n",
        "\n",
        "Output Description:\n",
        "Print the input in the same format.\n",
        "\n",
        "Sample Input :\n",
        "2 5\n",
        "2 5 6\n",
        "2 4 5\n",
        "Sample Output :\n",
        "2 5\n",
        "2 5 6\n",
        "2 4 5"
      ]
    },
    {
      "cell_type": "code",
      "execution_count": null,
      "metadata": {
        "id": "h3hmvbtqKzGh"
      },
      "outputs": [],
      "source": [
        "a=input().split(' ')\n",
        "b=map(int,a)\n",
        "\n",
        "e=input().split(' ')\n",
        "f=map(int,e)\n",
        "\n",
        "g=input().split(' ')\n",
        "h=map(int,g)\n",
        "\n",
        "print(*b)\n",
        "print(*f)\n",
        "print(*h)"
      ]
    },
    {
      "cell_type": "markdown",
      "metadata": {
        "id": "CrYI_KSaK183"
      },
      "source": [
        "Write a code to get the input in the given format and print the output in the given format\n",
        "\n",
        "Input Description:\n",
        "Three integers are given in line by line.\n",
        "\n",
        "Output Description:\n",
        "Print the integers in a single line separate by space.\n",
        "\n",
        "Sample Input :\n",
        "2\n",
        "4\n",
        "5\n",
        "Sample Output :\n",
        "2 4 5"
      ]
    },
    {
      "cell_type": "code",
      "execution_count": null,
      "metadata": {
        "id": "-zu21tF-K4FS"
      },
      "outputs": [],
      "source": [
        "a=int(input())\n",
        "b=int(input())\n",
        "c=int(input())\n",
        "\n",
        "print(a, b, c)"
      ]
    },
    {
      "cell_type": "markdown",
      "metadata": {
        "id": "alZwPcqOK8Oo"
      },
      "source": [
        "Write a code to get the input in the given format and print the output in the given format\n",
        "\n",
        "Input Description:\n",
        "First-line indicates two integers separated by space. Second-line indicates two integers separated by space. Third-line indicates two integers separated by space.\n",
        "\n",
        "Output Description:\n",
        "Print the input in the same format.\n",
        "\n",
        "Sample Input :\n",
        "2 4\n",
        "2 4\n",
        "2 4\n",
        "Sample Output :\n",
        "2 4\n",
        "2 4\n",
        "2 4"
      ]
    },
    {
      "cell_type": "code",
      "execution_count": null,
      "metadata": {
        "id": "hG13DXWVK_j4"
      },
      "outputs": [],
      "source": [
        "a=input().split(' ')\n",
        "b=map(int,a)\n",
        "\n",
        "c=input().split(' ')\n",
        "d=map(int,c)\n",
        "\n",
        "e=input().split(' ')\n",
        "f=map(int,e)\n",
        "\n",
        "print(*b)\n",
        "print(*d)\n",
        "print(*f)"
      ]
    },
    {
      "cell_type": "markdown",
      "metadata": {
        "id": "X_b389W4LCt3"
      },
      "source": [
        "Write a code to get the input in the given format and print the output in the given format.\n",
        "\n",
        "Input Description:\n",
        "First-line indicates two integers which are the size of array and 'K' value. Second-line indicates an integer contains elements of an array.\n",
        "\n",
        "Output Description:\n",
        "Print the taken input in the same format.\n",
        "\n",
        "Sample Input :\n",
        "5 3\n",
        "1 2 3 4 5\n",
        "Sample Output :\n",
        "5 3\n",
        "1 2 3 4 5"
      ]
    },
    {
      "cell_type": "code",
      "execution_count": null,
      "metadata": {
        "id": "2YmaczkfLFUf"
      },
      "outputs": [],
      "source": [
        "a=input().split(' ')\n",
        "n,k=list(map(int,a))\n",
        "\n",
        "b=input().split(' ')\n",
        "c=list(map(int,b))\n",
        "\n",
        "print(n,k)\n",
        "print(*c)"
      ]
    },
    {
      "cell_type": "markdown",
      "metadata": {
        "id": "lnRC08MuLHqc"
      },
      "source": [
        "Write a code to get the input in the given format and print the output in the given format\n",
        "\n",
        "Input Description:\n",
        "A single line contains integers separated by space\n",
        "\n",
        "Output Description:\n",
        "Print the integer list of integers separated by space\n",
        "\n",
        "Sample Input :\n",
        "2 3 4 5 6 7 8\n",
        "Sample Output :\n",
        "2 3 4 5 6 7 8"
      ]
    },
    {
      "cell_type": "code",
      "execution_count": null,
      "metadata": {
        "id": "Z_vveKAgLKGL"
      },
      "outputs": [],
      "source": [
        "a=input().split(\" \")\n",
        "b=map(int,a)\n",
        "print(*b)"
      ]
    },
    {
      "cell_type": "markdown",
      "metadata": {
        "id": "Uazg3l9SLMH_"
      },
      "source": [
        "Write a code to get the input in the given format and print the output in the given format\n",
        "\n",
        "Input Description:\n",
        "To take an integer value\n",
        "\n",
        "Output Description:\n",
        "Print the integer value\n",
        "\n",
        "Sample Input :\n",
        "2\n",
        "Sample Output :\n",
        "2"
      ]
    },
    {
      "cell_type": "code",
      "execution_count": null,
      "metadata": {
        "id": "6gSOrm1FLO7e"
      },
      "outputs": [],
      "source": [
        "a=int(input())\n",
        "print(a)"
      ]
    },
    {
      "cell_type": "markdown",
      "metadata": {
        "id": "i-vy6pRNLbHl"
      },
      "source": [
        "### **Absolute Engineer**"
      ]
    },
    {
      "cell_type": "markdown",
      "metadata": {
        "id": "HW1RobkgLT6B"
      },
      "source": [
        "Write a code to get 2 integers as input and find the HCF of the 2 integer without using recursion or Euclidean algorithm.\n",
        "\n",
        "Input Description:\n",
        "A single line containing 2 integers separated by space.\n",
        "\n",
        "Output Description:\n",
        "Print the HCF of the integers.\n",
        "\n",
        "Sample Input :\n",
        "2 3\n",
        "Sample Output :\n",
        "1"
      ]
    },
    {
      "cell_type": "code",
      "execution_count": null,
      "metadata": {
        "id": "aPu7uBlhLWyl"
      },
      "outputs": [],
      "source": [
        "import math\n",
        "\n",
        "nums=input().split()\n",
        "nums=list(map(int,nums))\n",
        "m,n=nums\n",
        "gcd=math.gcd(m,n)\n",
        "print(gcd)"
      ]
    },
    {
      "cell_type": "markdown",
      "metadata": {
        "id": "gkW2x8doLfeT"
      },
      "source": [
        "You are given a number A in Kilometers. Convert this into B: Meters and C: Centi-Metres.\n",
        "\n",
        "Input Description:\n",
        "A number \"A\" representing some distance in kilometer is provided to you as the input.\n",
        "\n",
        "Output Description:\n",
        "Convert and print this value in meters and centimeters.\n",
        "\n",
        "Sample Input :\n",
        "2\n",
        "Sample Output :\n",
        "2000\n",
        "200000"
      ]
    },
    {
      "cell_type": "code",
      "execution_count": null,
      "metadata": {
        "id": "nvC6U1x5LiEi"
      },
      "outputs": [],
      "source": [
        "A=int(input())\n",
        "B=A*1000\n",
        "C=B*100\n",
        "print(B)\n",
        "print(C)"
      ]
    },
    {
      "cell_type": "markdown",
      "metadata": {
        "id": "RXbbiyA6Lk6o"
      },
      "source": [
        "You are given with a number \"N\", find its cube.\n",
        "\n",
        "Input Description:\n",
        "A positive integer is provided.\n",
        "\n",
        "Output Description:\n",
        "Find the cube of the number.\n",
        "\n",
        "Sample Input :\n",
        "2\n",
        "Sample Output :\n",
        "8"
      ]
    },
    {
      "cell_type": "code",
      "execution_count": null,
      "metadata": {
        "id": "_B-0INp_LuGh"
      },
      "outputs": [],
      "source": [
        "a=int(input())\n",
        "cube=a**3\n",
        "print(cube)"
      ]
    },
    {
      "cell_type": "markdown",
      "metadata": {
        "id": "s1ljFR8yLxHy"
      },
      "source": [
        "The area of an equilateral triangle is ¼(√3a2) where \"a\" represents a side of the triangle. You are provided with the side \"a\". Find the area of the equilateral triangle.\n",
        "\n",
        "Input Description:\n",
        "The side of an equilateral triangle is provided as the input.\n",
        "\n",
        "Output Description:\n",
        "Find the area of the equilateral triangle and print the answer up to 2 decimal places after rounding off.\n",
        "\n",
        "Sample Input :\n",
        "20\n",
        "Sample Output :\n",
        "173.21"
      ]
    },
    {
      "cell_type": "code",
      "execution_count": null,
      "metadata": {
        "id": "9jCPHX8XLztV"
      },
      "outputs": [],
      "source": [
        "c=float(input())\n",
        "\n",
        "area=(3**0.5)*(c**2)/4\n",
        "print(round(area,2))"
      ]
    },
    {
      "cell_type": "markdown",
      "metadata": {
        "id": "hUzdsHW4L4OP"
      },
      "source": [
        "Write a code to get an integer N and print the sum of  values from 1 to N.\n",
        "\n",
        "Input Description:\n",
        "A single line contains an integer N.\n",
        "\n",
        "Output Description:\n",
        "Print the sum of values from 1 to N.\n",
        "\n",
        "Sample Input :\n",
        "10\n",
        "Sample Output :\n",
        "55"
      ]
    },
    {
      "cell_type": "code",
      "execution_count": null,
      "metadata": {
        "id": "CRBY7Tv2L6aL"
      },
      "outputs": [],
      "source": [
        "N=int(input())\n",
        "sum=N*(N+1)/2\n",
        "print(int(sum))"
      ]
    },
    {
      "cell_type": "markdown",
      "metadata": {
        "id": "HRBG0tMlL-_l"
      },
      "source": [
        "Write a code to get an integer N and print the values from N to 1.\n",
        "\n",
        "Input Description:\n",
        "A single line contains an integer N.\n",
        "\n",
        "Output Description:\n",
        "Print the values from N to 1 in a separate line.\n",
        "\n",
        "Sample Input :\n",
        "10\n",
        "Sample Output :\n",
        "10\n",
        "9\n",
        "8\n",
        "7\n",
        "6\n",
        "5\n",
        "4\n",
        "3\n",
        "2\n",
        "1"
      ]
    },
    {
      "cell_type": "code",
      "execution_count": null,
      "metadata": {
        "id": "bNeqRnQWMCNc"
      },
      "outputs": [],
      "source": [
        "n=int(input())\n",
        "num=n+1\n",
        "for x in range(1,n+1):\n",
        "    num = num-1\n",
        "    print(num)"
      ]
    },
    {
      "cell_type": "markdown",
      "metadata": {
        "id": "mgWNKIVIMEzO"
      },
      "source": [
        "Write a code to get an integer N and print the digits of the integer.\n",
        "\n",
        "Input Description:\n",
        "A single line contains an integer N.\n",
        "\n",
        "Output Description:\n",
        "Print the digits of the integer in a single line separated by space,\n",
        "\n",
        "Sample Input :\n",
        "348\n",
        "Sample Output :\n",
        "3 4 8"
      ]
    },
    {
      "cell_type": "code",
      "execution_count": null,
      "metadata": {
        "id": "PhF-lOM5MG0r"
      },
      "outputs": [],
      "source": [
        "a=input()\n",
        "b=[x for x in a]\n",
        "print(*b)"
      ]
    },
    {
      "cell_type": "markdown",
      "metadata": {
        "id": "aoI8fKR1MJ4e"
      },
      "source": [
        "Write a code get an integer number as input and print the odd and even digits of the number separately.\n",
        "\n",
        "Input Description:\n",
        "A single line containing an integer.\n",
        "\n",
        "Output Description:\n",
        "Print the even and odd integers of the integer in a separate line.\n",
        "\n",
        "Sample Input :\n",
        "1234\n",
        "Sample Output :\n",
        "2 4\n",
        "1 3"
      ]
    },
    {
      "cell_type": "code",
      "execution_count": null,
      "metadata": {
        "id": "MIWl6hadMQ-t"
      },
      "outputs": [],
      "source": [
        "n=input()\n",
        "m=list(map(int,n))\n",
        "\n",
        "\n",
        "l1=list(filter(lambda x: x%2!=0,m))\n",
        "l2=list(filter(lambda x: x%2==0,m))\n",
        "\n",
        "l1.sort()\n",
        "l2.sort()\n",
        "\n",
        "print(*l2)\n",
        "print(*l1)"
      ]
    },
    {
      "cell_type": "markdown",
      "metadata": {
        "id": "IzhhgPoDMfo_"
      },
      "source": [
        "Write a code to get an integer N and print the even values from 1 till N in a separate line.\n",
        "\n",
        "Input Description:\n",
        "A single line contains an integer N.\n",
        "\n",
        "Output Description:\n",
        "Print the even values from 1 to N in a separate line.\n",
        "\n",
        "Sample Input :\n",
        "6\n",
        "Sample Output :\n",
        "2\n",
        "4\n",
        "6"
      ]
    },
    {
      "cell_type": "code",
      "execution_count": null,
      "metadata": {
        "id": "ttIMCdOaMcQK"
      },
      "outputs": [],
      "source": [
        "n=int(input())\n",
        "for x in range(1,n+1):\n",
        "    if x%2==0:\n",
        "        print(x)"
      ]
    },
    {
      "cell_type": "markdown",
      "metadata": {
        "id": "fZvG61egMjRi"
      },
      "source": [
        "Write a code get an integer number as input and print the sum of the digits.\n",
        "\n",
        "Input Description:\n",
        "A single line containing an integer.\n",
        "\n",
        "Output Description:\n",
        "Print the sum of the digits of the integer.\n",
        "\n",
        "Sample Input :\n",
        "124\n",
        "Sample Output :\n",
        "7"
      ]
    },
    {
      "cell_type": "code",
      "execution_count": null,
      "metadata": {
        "id": "kY0pFXqbMlN0"
      },
      "outputs": [],
      "source": [
        "a=input()\n",
        "sum=0\n",
        "for x in range(len(a)):\n",
        "    sum += int(a[x])\n",
        "print(sum)"
      ]
    },
    {
      "cell_type": "markdown",
      "metadata": {
        "id": "VJkYVvi5MonD"
      },
      "source": [
        "Write a program to get a string as input and reverse the string without using temporary variable.\n",
        "\n",
        "Input Description:\n",
        "A single line containing a string.\n",
        "\n",
        "Output Description:\n",
        "Print the reversed string.\n",
        "\n",
        "Sample Input :\n",
        "GUVI\n",
        "Sample Output :\n",
        "IVUG"
      ]
    },
    {
      "cell_type": "code",
      "execution_count": null,
      "metadata": {
        "id": "2VoWRS9IMqzT"
      },
      "outputs": [],
      "source": [
        "s=input()\n",
        "s=s[::-1]\n",
        "print(s)"
      ]
    },
    {
      "cell_type": "markdown",
      "metadata": {
        "id": "Tbmq4Y0SMtpq"
      },
      "source": [
        "You are provided with two numbers. Find and print the smaller number.\n",
        "\n",
        "Input Description:\n",
        "You are provided with two numbers as input.\n",
        "\n",
        "Output Description:\n",
        "Print the small number out of the two numbers.\n",
        "\n",
        "Sample Input :\n",
        "23 1\n",
        "Sample Output :\n",
        "1"
      ]
    },
    {
      "cell_type": "code",
      "execution_count": null,
      "metadata": {
        "id": "HtggVpgdMwT7"
      },
      "outputs": [],
      "source": [
        "input=input().split()\n",
        "a,b=input\n",
        "print(min(a,b))"
      ]
    },
    {
      "cell_type": "markdown",
      "metadata": {
        "id": "fXshISZXM0gZ"
      },
      "source": [
        "You are given with a number A i.e. the temperature in Celcius. Write a program to convert this into Fahrenheit. \n",
        "\n",
        "Note: In case of decimal values, round-off to two decimal places.\n",
        "\n",
        "Input Description:\n",
        "A number is provided in Celcius as the input of the program.\n",
        "\n",
        "Output Description:\n",
        "The output shall be the temperature converted into Fahrenheit corresponding to the input value print up to two decimal places and round off if required.\n",
        "\n",
        "Sample Input :\n",
        "12\n",
        "Sample Output :\n",
        "53.60"
      ]
    },
    {
      "cell_type": "code",
      "execution_count": null,
      "metadata": {
        "id": "yCP-e2jHM3zJ"
      },
      "outputs": [],
      "source": [
        "c=float(input())\n",
        "f=1.8*c+32\n",
        "#print(f)\n",
        "print(round(f,2))"
      ]
    },
    {
      "cell_type": "markdown",
      "metadata": {
        "id": "pwC1Y9SPM_AL"
      },
      "source": [
        "You are provided with the radius of a circle \"A\". Find the length of its circumference.\n",
        "\n",
        "Note: In case the output is coming in decimal, roundoff to 2nd decimal place. In case the input is a negative number, print \"Error\".\n",
        "\n",
        "Input Description:\n",
        "The Radius of a circle is provided as the input of the program.\n",
        "\n",
        "Output Description:\n",
        "Calculate and print the Circumference of the circle corresponding to the input radius up to two decimal places.\n",
        "\n",
        "Sample Input :\n",
        "2\n",
        "Sample Output :\n",
        "12.57"
      ]
    },
    {
      "cell_type": "code",
      "execution_count": null,
      "metadata": {
        "id": "HkI3l5fZNBi8"
      },
      "outputs": [],
      "source": [
        "import math\n",
        "r=float(input())\n",
        "P=math.pi\n",
        "periMetre=2*P*r\n",
        "periMetre=round(periMetre,2)\n",
        "print(\"Error\") if r<0 else print(periMetre)"
      ]
    },
    {
      "cell_type": "markdown",
      "metadata": {
        "id": "thUMzSrgNDw3"
      },
      "source": [
        "Write a code to get the input and print it 5 times.\n",
        "\n",
        "Input Description:\n",
        "A single line contains an integer N.\n",
        "\n",
        "Output Description:\n",
        "Output contains 5 lines with each line having the value N.\n",
        "\n",
        "Sample Input :\n",
        "4\n",
        "Sample Output :\n",
        "4\n",
        "4\n",
        "4\n",
        "4\n",
        "4"
      ]
    },
    {
      "cell_type": "code",
      "execution_count": null,
      "metadata": {
        "id": "LsYBj4MANGpL"
      },
      "outputs": [],
      "source": [
        "a=input()\n",
        "for x in range(5):\n",
        "    print(a)"
      ]
    },
    {
      "cell_type": "markdown",
      "metadata": {
        "id": "N3x53EzRNJTL"
      },
      "source": [
        "Write a code to get 2 integers A and N. Print the integer A, N times in separate line.\n",
        "\n",
        "Input Description:\n",
        "First line contains an integer A. Second line contains an Integer N.\n",
        "\n",
        "Output Description:\n",
        "Print the integer A, N times in a separate line.\n",
        "\n",
        "Sample Input :\n",
        "2 3\n",
        "Sample Output :\n",
        "2\n",
        "2\n",
        "2"
      ]
    },
    {
      "cell_type": "code",
      "execution_count": null,
      "metadata": {
        "id": "tv_xyujQNLmQ"
      },
      "outputs": [],
      "source": [
        "a=input().split(\" \")\n",
        "b=[int(x) for x in a]   \n",
        "#print(b)\n",
        "n,m=b\n",
        "for x in range(m):\n",
        "    print(n)"
      ]
    },
    {
      "cell_type": "markdown",
      "metadata": {
        "id": "tQdzUubiNOWm"
      },
      "source": [
        "Write a code to get an integer N and print values from 1 till N in a separate line.\n",
        "\n",
        "Input Description:\n",
        "A single line contains an integer N.\n",
        "\n",
        "Output Description:\n",
        "Print the values from 1 to N in a separate line.\n",
        "\n",
        "Sample Input :\n",
        "5\n",
        "Sample Output :\n",
        "1\n",
        "2\n",
        "3\n",
        "4\n",
        "5"
      ]
    },
    {
      "cell_type": "code",
      "execution_count": null,
      "metadata": {
        "id": "JWohZRrUNQ5J"
      },
      "outputs": [],
      "source": [
        "N=int(input())\n",
        "for x in range(1,N+1):\n",
        "    print(x)"
      ]
    },
    {
      "cell_type": "markdown",
      "metadata": {
        "id": "EKHMTrnpNVnf"
      },
      "source": [
        "You will be provided with a number. Print the number of days in the month corresponding to that number.\n",
        "\n",
        "Note: In case the input is February, print 28 days. If the Input is not in valid range print \"Error\".\n",
        "\n",
        "Input Description:\n",
        "The input is in the form of a number.\n",
        "\n",
        "Output Description:\n",
        "Find the days in the month corresponding to the input number. Print Error if the input is not in a valid range.\n",
        "\n",
        "Sample Input :\n",
        "8\n",
        "Sample Output :\n",
        "31"
      ]
    },
    {
      "cell_type": "code",
      "execution_count": null,
      "metadata": {
        "id": "eNRu-D6cNZES"
      },
      "outputs": [],
      "source": [
        "months={1:31,2:28,3:31,4:30,5:31,6:30,7:31,8:31,9:30,10:31,11:30,12:31}\n",
        "n=int(input())\n",
        "#print(\"Error\") if n==0 or n>12 else print(months[n])\n",
        "print(months[n]) if 0<n<=12 else print(\"Error\")"
      ]
    },
    {
      "cell_type": "markdown",
      "metadata": {
        "id": "pP6H3ERfNbZP"
      },
      "source": [
        "Let \"A\"  be a string. Remove all the whitespaces and find it's length.\n",
        "\n",
        "Input Description:\n",
        "A string is provide as an input\n",
        "\n",
        "Output Description:\n",
        "Remove all the whitespaces and then print the length of the remaining string.\n",
        "\n",
        "Sample Input :\n",
        "Lorem Ipsum\n",
        "Sample Output :\n",
        "10"
      ]
    },
    {
      "cell_type": "code",
      "execution_count": null,
      "metadata": {
        "id": "RkrG3XWXNdy2"
      },
      "outputs": [],
      "source": [
        "a=input().split()\n",
        "#print(a)\n",
        "s=\"\"\n",
        "for x in a:\n",
        "    s=s+x\n",
        "#print(s)\n",
        "print(len(s))"
      ]
    },
    {
      "cell_type": "markdown",
      "metadata": {
        "id": "nbM1rC2gNhsS"
      },
      "source": [
        "Let \"A\" be a year, write a program to check whether this year is a leap year or not.\n",
        "\n",
        "Print \"Y\" if its a leap year and \"N\" if its a common year.\n",
        "\n",
        "Input Description:\n",
        "A Year is the input in the form of a positive integer.\n",
        "\n",
        "Output Description:\n",
        "Print \"Y\" if its a leap year and \"N\" if its a common year.\n",
        "\n",
        "Sample Input :\n",
        "2020\n",
        "Sample Output :\n",
        "Y"
      ]
    },
    {
      "cell_type": "code",
      "execution_count": null,
      "metadata": {
        "id": "W4WpXl_jNkXb"
      },
      "outputs": [],
      "source": [
        "n=int(input())\n",
        "print(\"Y\") if n%100 == 0 and n%400 == 0 else print(\"Y\") if n%100!=0 and n%4==0 else print(\"N\")"
      ]
    },
    {
      "cell_type": "markdown",
      "metadata": {
        "id": "HeEWuTH5NpkF"
      },
      "source": [
        "You are provided with a number \"N\", Find the Nth term of the series: 1, 4, 9, 16, 25, 36, 49, 64, 81, .......\n",
        "\n",
        "(Print \"Error\" if N = negative value and 0 if N = 0).\n",
        "\n",
        "Input Description:\n",
        "An integer N is provided to you as the input.\n",
        "\n",
        "Output Description:\n",
        "Find the Nth term in the provided series.\n",
        "\n",
        "Sample Input :\n",
        "18\n",
        "Sample Output :\n",
        "324"
      ]
    },
    {
      "cell_type": "code",
      "execution_count": null,
      "metadata": {
        "id": "OOgURWEKNsmK"
      },
      "outputs": [],
      "source": [
        "n=int(input())\n",
        "print(\"Error\") if n<0 else print(0) if n==0 else print(n**2)"
      ]
    },
    {
      "cell_type": "markdown",
      "metadata": {
        "id": "auLdaMfnNvf_"
      },
      "source": [
        "You are given with Principle amount($), Interest Rate(%) and Time (years) in that order. Find Simple Interest.\n",
        "\n",
        "Print the output up to two decimal places (Round-off if necessary).\n",
        "\n",
        "(S.I. = P*T*R/100)\n",
        "\n",
        "Input Description:\n",
        "Three values are given to you as the input. these values correspond to Principle amount, Interest Rate and Time in that particular order.\n",
        "\n",
        "Output Description:\n",
        "Find the Simple interest and print it up to two decimal places. Round off if required.\n",
        "\n",
        "Sample Input :\n",
        "1000 2 5\n",
        "Sample Output :\n",
        "100.00"
      ]
    },
    {
      "cell_type": "code",
      "execution_count": null,
      "metadata": {
        "id": "j8PSxW0jNzC3"
      },
      "outputs": [],
      "source": [
        "a=input().split()\n",
        "Input=list(map(float,a))\n",
        "P,T,R=Input\n",
        "sI=P*T*R/100\n",
        "sI=round(sI,2)\n",
        "print(sI)"
      ]
    },
    {
      "cell_type": "markdown",
      "metadata": {
        "id": "ZsBobdwpN1wX"
      },
      "source": [
        "Using the method of looping, write a program to print the table of 9 till N in the format as follows:\n",
        "(N is input by the user)\n",
        "\n",
        "9 18 27...\n",
        "\n",
        "Print NULL if 0 is input\n",
        "\n",
        "Input Description:\n",
        "A positive integer is provided as an input.\n",
        "\n",
        "Output Description:\n",
        "Print the table of nine with single space between the elements till the number that is input.\n",
        "\n",
        "Sample Input :\n",
        "3\n",
        "Sample Output :\n",
        "9 18 27"
      ]
    },
    {
      "cell_type": "code",
      "execution_count": null,
      "metadata": {
        "id": "lNhwfUJaN4G8"
      },
      "outputs": [],
      "source": [
        "n=int(input())\n",
        "\n",
        "def Table(m):\n",
        "        y=m*9\n",
        "        return y\n",
        "tab9=[Table(x)for x in range(1,n+1)]\n",
        "print(*tab9)"
      ]
    },
    {
      "cell_type": "markdown",
      "metadata": {
        "id": "5SmoMOZ2N8VY"
      },
      "source": [
        "You are provided with a number check whether its odd or even. \n",
        "\n",
        "Print \"Odd\" or \"Even\" for the corresponding cases.\n",
        "\n",
        "Note: In case of a decimal, Round off to nearest integer and then find the output. Incase the input is zero, print \"Zero\".\n",
        "\n",
        "Input Description:\n",
        "A number is provided as the input.\n",
        "\n",
        "Output Description:\n",
        "Find out whether the number is odd or even. Print \"Odd\" or \"Even\" for the corresponding cases. Note: In case of a decimal, Round off to nearest integer and then find the output. In case the input is zero, print \"Zero\".\n",
        "\n",
        "Sample Input :\n",
        "2\n",
        "Sample Output :\n",
        "Even"
      ]
    },
    {
      "cell_type": "code",
      "execution_count": null,
      "metadata": {
        "id": "h9-y5YrMN_cP"
      },
      "outputs": [],
      "source": [
        "a=float(input())\n",
        "a=round(a,0)\n",
        "print(0) if a==0 else print(\"Even\") if a%2==0 else print(\"Odd\")"
      ]
    },
    {
      "cell_type": "markdown",
      "metadata": {
        "id": "TFmIqmQNOCeH"
      },
      "source": [
        "You are provided with a number, \"N\". Find its factorial.\n",
        "\n",
        "Input Description:\n",
        "A positive integer is provided as an input.\n",
        "\n",
        "Output Description:\n",
        "Print the factorial of the integer.\n",
        "\n",
        "Sample Input :\n",
        "2\n",
        "Sample Output :\n",
        "2"
      ]
    },
    {
      "cell_type": "code",
      "execution_count": null,
      "metadata": {
        "id": "CQDVsyjhOFNr"
      },
      "outputs": [],
      "source": [
        "import math\n",
        "a=int(input())\n",
        "fact=math.factorial(a)\n",
        "print(fact)"
      ]
    },
    {
      "cell_type": "markdown",
      "metadata": {
        "id": "HEjn0-aNOJGX"
      },
      "source": [
        "You are given three numbers A, B & C. Print the largest amongst these three numbers.\n",
        "\n",
        "Input Description:\n",
        "Three numbers are provided to you.\n",
        "\n",
        "Output Description:\n",
        "Find and print the largest among the three\n",
        "\n",
        "Sample Input :\n",
        "1\n",
        "2\n",
        "3\n",
        "Sample Output :\n",
        "3"
      ]
    },
    {
      "cell_type": "code",
      "execution_count": null,
      "metadata": {
        "id": "NkoGlUurOLqZ"
      },
      "outputs": [],
      "source": [
        "a=int(input())\n",
        "b=int(input())\n",
        "c=int(input())\n",
        "print(max(a,b,c))"
      ]
    },
    {
      "cell_type": "markdown",
      "metadata": {
        "id": "rA_Nr75-OOij"
      },
      "source": [
        "You are given A = Length of a rectangle & B = breadth of a rectangle. Find its area “C”.\n",
        "\n",
        "(A and B are natural numbers)\n",
        "\n",
        "Input Description:\n",
        "The inputs are two natural numbers representing the length and the breadth of a rectangle.\n",
        "\n",
        "Output Description:\n",
        "Find the area of the rectangle formed by the provided input. Round off the answer to the first decimal place if required.\n",
        "\n",
        "Sample Input :\n",
        "2\n",
        "3\n",
        "Sample Output :\n",
        "6"
      ]
    },
    {
      "cell_type": "code",
      "execution_count": null,
      "metadata": {
        "id": "tZNb2INwORtY"
      },
      "outputs": [],
      "source": [
        "a=int(input())\n",
        "b=int(input())\n",
        "area=a*b\n",
        "print(int(area))"
      ]
    },
    {
      "cell_type": "markdown",
      "metadata": {
        "id": "EFjqM9OAOUsT"
      },
      "source": [
        "Print the First 3 multiples of the given number \"N\". (N is a positive integer)\n",
        "\n",
        "Note: print the characters with a single space between them.\n",
        "\n",
        "Input Description:\n",
        "A positive integer is provided to you as an input.\n",
        "\n",
        "Output Description:\n",
        "Print the First 3 multiples of the number with single spaces between them as an output.\n",
        "\n",
        "Sample Input :\n",
        "2\n",
        "Sample Output :\n",
        "2 4 6"
      ]
    },
    {
      "cell_type": "code",
      "execution_count": null,
      "metadata": {
        "id": "BZQiLk_XOXIX"
      },
      "outputs": [],
      "source": [
        "n=int(input())\n",
        "m=[1,2,3]\n",
        "l=list(map(lambda x: x*n,m))\n",
        "print(*l)"
      ]
    },
    {
      "cell_type": "markdown",
      "metadata": {
        "id": "oNSznetfOZvM"
      },
      "source": [
        "You are given Two Numbers, A and B. If C = A + B. Find C.\n",
        "\n",
        "Note: Round off the output to a single decimal place.\n",
        "\n",
        "Input Description:\n",
        "You are provided with two numbers A and B.\n",
        "\n",
        "Output Description:\n",
        "Find the sum of the two numbers (A + B)\n",
        "\n",
        "Sample Input :\n",
        "1\n",
        "1\n",
        "Sample Output :\n",
        "2"
      ]
    },
    {
      "cell_type": "code",
      "execution_count": null,
      "metadata": {
        "id": "eEv2bYz1Ofsr"
      },
      "outputs": [],
      "source": [
        "a=float(input())\n",
        "b=float(input())\n",
        "c=a+b\n",
        "#print(c)\n",
        "print(int(c))"
      ]
    },
    {
      "cell_type": "markdown",
      "metadata": {
        "id": "rdCw0EEpBRCl"
      },
      "source": [
        "### **Arrays**"
      ]
    },
    {
      "cell_type": "markdown",
      "metadata": {
        "id": "8vH4DhXjBi9W"
      },
      "source": [
        "Find the first 0 in window of size k. You  are given n numbers and window size ‘w’\n",
        "\n",
        "Your task is to print the first index which has 0\n",
        "\n",
        "Input Description:\n",
        "You are given two numbers ‘n’ and ‘w’ n representing size of array and ‘w’ size of window\n",
        "\n",
        "Output Description:\n",
        "Print the index of first 0(1 basedindexing),if there is no index with 0 print -1\n",
        "\n",
        "Sample Input :\n",
        "7 2\n",
        "1 0 6 7 4 0 9\n",
        "Sample Output :\n",
        "2 2 -1 -1 6 6"
      ]
    },
    {
      "cell_type": "code",
      "execution_count": null,
      "metadata": {
        "id": "f0ag5CbSBp12"
      },
      "outputs": [],
      "source": [
        "n,w=list(map(int,input().split()))\n",
        "arr=list(map(int,input().split()))\n",
        "first_index=[]\n",
        "for i in range(0,n):\n",
        "    j=i+w\n",
        "    not_zero=0\n",
        "    if j<=n:\n",
        "        for k in range(i,j):\n",
        "            if arr[k]==0:\n",
        "                first_index.append(int(k+1))\n",
        "                not_zero=-1\n",
        "                break\n",
        "        if not_zero==0:\n",
        "            first_index.append(-1)\n",
        "print(*first_index)"
      ]
    },
    {
      "cell_type": "markdown",
      "metadata": {
        "id": "s7Clu7htBwFC"
      },
      "source": [
        "\n",
        "Pk finds it difficult to judge the minimum element in the list of elements given to him. Your task is to develop the algorithm in order to find the minimum element.\n",
        "\n",
        " \n",
        "\n",
        "Note:Don’t use sorting\n",
        " \n",
        "\n",
        "Input Description:\n",
        "You are given ‘n’ number of elements. Next line contains n space separated numbers.\n",
        "\n",
        "Output Description:\n",
        "Print the minimum element\n",
        "\n",
        "Sample Input :\n",
        "5\n",
        "3 4 9 1 6\n",
        "Sample Output :\n",
        "1"
      ]
    },
    {
      "cell_type": "code",
      "execution_count": null,
      "metadata": {
        "id": "ACSUoB7pBzBy"
      },
      "outputs": [],
      "source": [
        "n=int(input())\n",
        "elements=list(map(int,input().split()))\n",
        "min_element=elements[0]\n",
        "for i in elements:\n",
        "    if i<min_element:\n",
        "        min_element=i \n",
        "print(min_element)"
      ]
    },
    {
      "cell_type": "markdown",
      "metadata": {
        "id": "MMLMZyEqB1xp"
      },
      "source": [
        "\n",
        "You are given an array of ids of prisoners. The jail authority found that there are some prisoners of same id. Your task is to help the authority in finding the common ids.\n",
        "\n",
        "Input Description:\n",
        "First line contains a number ‘n’ representing no of prisoners. Next line contains n space separated numbers.\n",
        "\n",
        "Output Description:\n",
        "Print the ids which are not unique. Print -1 if all ids are unique\n",
        "\n",
        "Sample Input :\n",
        "7\n",
        "1 1 11 121 131 141 98\n",
        "Sample Output :\n",
        "1"
      ]
    },
    {
      "cell_type": "code",
      "execution_count": null,
      "metadata": {
        "id": "36yN5iU6B6fu"
      },
      "outputs": [],
      "source": [
        "N=int(input())\n",
        "ids=list(map(int,input().split()))\n",
        "uniqueList=[]\n",
        "duplicateList=[]\n",
        "for i in ids:\n",
        "    if i not in uniqueList:\n",
        "        uniqueList.append(i)\n",
        "    elif i not in duplicateList:\n",
        "        duplicateList.append(i)\n",
        "print(*duplicateList)"
      ]
    },
    {
      "cell_type": "markdown",
      "metadata": {
        "id": "FuNqsw3vB_0H"
      },
      "source": [
        "You are a passport issuer, but due to some problems in the system, there are redundant  passport numbers. Your task is to delete all the duplicate passport numbers. You are given a list of passport numbers.\n",
        "\n",
        "Input Description:\n",
        "You are given length of list.Second line,You are given with a list.\n",
        "\n",
        "Output Description:\n",
        "Print the list of passport numbers without duplicates.\n",
        "\n",
        "Sample Input :\n",
        "5\n",
        "A23 B56 B56 C79 D16\n",
        "Sample Output :\n",
        "A23 B56 C79 D16"
      ]
    },
    {
      "cell_type": "code",
      "execution_count": null,
      "metadata": {
        "id": "Wz728JwFCFP0"
      },
      "outputs": [],
      "source": [
        "n=int(input())\n",
        "passport_numbers=list(map(str,input().split()))\n",
        "unique_list=[]\n",
        "for i in passport_numbers:\n",
        "    if i not in unique_list:\n",
        "        unique_list.append(i)\n",
        "print(*unique_list)"
      ]
    },
    {
      "cell_type": "markdown",
      "metadata": {
        "id": "VAOtg8_hCIF0"
      },
      "source": [
        "You are given with an circular array .Your task is calculate the difference between two consecutive number. And if difference is greater than ‘k’, print 1 else print 0\n",
        "\n",
        "Input Description:\n",
        "You are given two numbers ‘n’, ’m’. Next line contains n space separated integers.\n",
        "\n",
        "Output Description:\n",
        "Print 1 if the difference is greater than ‘m’.\n",
        "\n",
        "Sample Input :\n",
        "5 15\n",
        "50 65 85 98 35\n",
        "Sample Output :\n",
        "0 1 0 1 0"
      ]
    },
    {
      "cell_type": "code",
      "execution_count": null,
      "metadata": {
        "id": "8-VR7zuMCMGI"
      },
      "outputs": [],
      "source": [
        "a,b=list(map(int,input().split()))\n",
        "l1=list(map(int,input().split()))\n",
        "l2=[]\n",
        "def diff(n,m):\n",
        "        if(abs(l1[n]-l1[m]))>b:\n",
        "                l2.append(1)\n",
        "        else:\n",
        "                l2.append(0)\n",
        "for i in range(a):\n",
        "    if i==(a-1):\n",
        "        diff(i,0)\n",
        "    else:\n",
        "        diff(i+1,i)\n",
        "print(*l2)"
      ]
    },
    {
      "cell_type": "markdown",
      "metadata": {
        "id": "wKuB3vWNCT-k"
      },
      "source": [
        "You are given a number with duplicate digits your task is to remove the immediate duplicate digits and print the result\n",
        "\n",
        "Input Description:\n",
        "You are given a long string of digits\n",
        "\n",
        "Output Description:\n",
        "Print the desired result print -1 if result length is 0\n",
        "\n",
        "Sample Input :\n",
        "1331\n",
        "\n",
        "Sample Output :\n",
        "11"
      ]
    },
    {
      "cell_type": "code",
      "execution_count": null,
      "metadata": {
        "id": "DI3-a7sLCYs0"
      },
      "outputs": [],
      "source": [
        "s = input()\n",
        "i = 1\n",
        "final_Str = s[0]\n",
        "while i < len(s) - 1:\n",
        "    if s[i] == s[i + 1]:\n",
        "        i = i + 2\n",
        "    else:\n",
        "        final_Str += s[i]\n",
        "        i = i + 1\n",
        "final_Str += s[-1]\n",
        "print(final_Str)"
      ]
    },
    {
      "cell_type": "markdown",
      "metadata": {
        "id": "8hW7WBwRCcn0"
      },
      "source": [
        "Given 2 numbers N and K followed by elements of N .Print 'yes' if K exists else print 'no'.\n",
        "Sample Testcase :\n",
        "INPUT\n",
        "4 2\n",
        "1 2 3 3\n",
        "OUTPUT\n",
        "yes"
      ]
    },
    {
      "cell_type": "code",
      "execution_count": null,
      "metadata": {
        "id": "_BFSNfWXCfxj"
      },
      "outputs": [],
      "source": [
        "i=input().split(\" \")\n",
        "j,k=i\n",
        "l=input().split(\" \")\n",
        "#l=list(map(int,l))\n",
        "print(\"yes\") if k in l else print(\"no\")"
      ]
    },
    {
      "cell_type": "markdown",
      "metadata": {
        "id": "q_wdNul5CjZg"
      },
      "source": [
        "You are given with an array. For each element present in the array your task is to print the next smallest than that number. If it is not smallest print -1\n",
        "\n",
        "Input Description:\n",
        "You are given a number ‘n’ representing size of array. And n space separated numbers.\n",
        "\n",
        "Output Description:\n",
        "Print the next smallest number present in array and -1 if no smallest is present\n",
        "\n",
        "Sample Input :\n",
        "7\n",
        "10 7 9 3 2 1 15\n",
        "Sample Output :\n",
        "7 3 3 2 1 -1 -1"
      ]
    },
    {
      "cell_type": "code",
      "execution_count": null,
      "metadata": {
        "id": "U9uP93cQCnP1"
      },
      "outputs": [],
      "source": [
        "n=int(input())\n",
        "elements=list(map(int,input().split()))\n",
        "smallest_number=[]\n",
        "for i in range(n):\n",
        "    is_added=0\n",
        "    for j in range(i,n):\n",
        "        if elements[i]>elements[j]:\n",
        "            smallest_number.append(elements[j])\n",
        "            is_added=1\n",
        "            break \n",
        "    if is_added==0:\n",
        "        smallest_number.append(-1)\n",
        "print(*smallest_number)"
      ]
    },
    {
      "cell_type": "markdown",
      "metadata": {
        "id": "9Y3zMCHvCuQ4"
      },
      "source": [
        "Mr.Stark wants to order the employee ids, which are recorded in a 2D matrix, in ascending order. He wants to do it so as to allot a new id to a person who joins as a fresher. You are the CTO of the Stark industries and you are asked by Mr.Stark to sort the data.\n",
        " \n",
        "\n",
        "Input Description:\n",
        "Dimensions of the matrix m and n, followed by the elements of the matrix.\n",
        "\n",
        "Output Description:\n",
        "Matrix sorted in ascending order\n",
        "\n",
        "Sample Input :\n",
        "3 3\n",
        "87 21 34\n",
        "89 32 78\n",
        "12 23 45\n",
        "Sample Output :\n",
        "12 21 23\n",
        "32 34 45\n",
        "78 87 89"
      ]
    },
    {
      "cell_type": "code",
      "execution_count": null,
      "metadata": {
        "id": "w4tNtBqvCyLG"
      },
      "outputs": [],
      "source": [
        "m,n=list(map(int,input().split()))\n",
        "l1=[]\n",
        "for i in range(m):\n",
        "    sample=list(map(int,input().split()))\n",
        "    l1.append(sample)\n",
        "no_elements=m*n\n",
        "temp=[0]*no_elements\n",
        "k=0\n",
        "for i in range(m):\n",
        "    for j in range(n):\n",
        "        temp[k]=l1[i][j]\n",
        "        k=k+1\n",
        "temp.sort()\n",
        "k=0\n",
        "for i in range(m):\n",
        "    for j in range(n):\n",
        "        l1[i][j]=temp[k]\n",
        "        k=k+1\n",
        "for i in range(0, m):\n",
        "    final_list=[]\n",
        "    for j in range(0, n):\n",
        "        final_list.append(l1[i][j])\n",
        "    print(*final_list)"
      ]
    },
    {
      "cell_type": "markdown",
      "metadata": {
        "id": "xT872lrJC4CK"
      },
      "source": [
        "Given a string S, print it after changing the middle element to * (if the length of the string is even, change the 2 middle elements to *).\n",
        "Sample Testcase :\n",
        "INPUT\n",
        "hello\n",
        "OUTPUT\n",
        "he*lo"
      ]
    },
    {
      "cell_type": "code",
      "execution_count": null,
      "metadata": {
        "id": "wzixX2hQC_q6"
      },
      "outputs": [],
      "source": [
        "s=input()\n",
        "n=len(s)//2\n",
        "m=n+1\n",
        "\n",
        "if len(s)%2==0:\n",
        "    s=s[:n-1]+\"**\"+s[m:]\n",
        "    print(s)\n",
        "else:\n",
        "    s=s[:n]+\"*\"+s[m:]\n",
        "    print(s)"
      ]
    },
    {
      "cell_type": "markdown",
      "metadata": {
        "id": "6Y_15lHbDGan"
      },
      "source": [
        "Given a string S, print it without using semicolon in your program.\n",
        "Sample Testcase :\n",
        "INPUT\n",
        "hello world\n",
        "OUTPUT\n",
        "hello world"
      ]
    },
    {
      "cell_type": "code",
      "execution_count": null,
      "metadata": {
        "id": "NIP3X7OJDJgq"
      },
      "outputs": [],
      "source": [
        "s=input()\n",
        "print(s)"
      ]
    },
    {
      "cell_type": "markdown",
      "metadata": {
        "id": "_xCpadeyDMLQ"
      },
      "source": [
        "Ria is a 5 year old girl. Her mother wants to teach her how to sort words in the same order that they appear in a dictionary. She decides to write a program to sort a given set of strings based on their alphabetical order. Help Ria’s mother to complete the program.\n",
        "\n",
        " \n",
        "\n",
        "Input Description:\n",
        "A set of N strings\n",
        "\n",
        "Output Description:\n",
        "Alphabetically sorted set of strings\n",
        "\n",
        "Sample Input :\n",
        "3\n",
        "InfinityWar EndGame Avengers\n",
        "Sample Output :\n",
        "Avengers EndGame InfinityWar"
      ]
    },
    {
      "cell_type": "code",
      "execution_count": null,
      "metadata": {
        "id": "xjvNZGkODO3D"
      },
      "outputs": [],
      "source": [
        "n=input() # number of words, 3,4,etc..\n",
        "a=input().split()\n",
        "a.sort()\n",
        "print(*a)"
      ]
    },
    {
      "cell_type": "markdown",
      "metadata": {
        "id": "fe_wSPJvDS-C"
      },
      "source": [
        "Ramesh is a student and wants to find out if there is any other student in his class who has got the same marks as his, in maths. Help him to find out.\n",
        " \n",
        "\n",
        "Input Description:\n",
        "First line contains the number of students in the class followed by Ramesh’s mark. Second line contains the marks of all students in the class.\n",
        "\n",
        "Output Description:\n",
        "Index of student who got mark same as Ramesh’s mark. If no such mark exists, return -1.\n",
        "\n",
        "Sample Input :\n",
        "2 10\n",
        "1 2\n",
        "Sample Output :\n",
        "-1"
      ]
    },
    {
      "cell_type": "code",
      "execution_count": null,
      "metadata": {
        "id": "QoyHkbI0DV4w"
      },
      "outputs": [],
      "source": [
        "n,ramesh_marks=input().split()\n",
        "marks=input().split()\n",
        "\n",
        "if ramesh_marks in marks:\n",
        "    indi=marks.index(ramesh_marks)\n",
        "    print(indi)\n",
        "else:\n",
        "     print(-1)"
      ]
    },
    {
      "cell_type": "markdown",
      "metadata": {
        "id": "WAvT6xdKDfu2"
      },
      "source": [
        "Given numbers A,B find A^B.\n",
        "Input Size : 1 <= A <= 5 <= B <= 50\n",
        "Sample Testcase :\n",
        "INPUT\n",
        "3 4\n",
        "OUTPUT\n",
        "81"
      ]
    },
    {
      "cell_type": "code",
      "execution_count": null,
      "metadata": {
        "id": "OVg6O1hJDi80"
      },
      "outputs": [],
      "source": [
        "a=input().split()\n",
        "b=list(map(int,a))\n",
        "i,j=b\n",
        "p=i**j\n",
        "print(p)"
      ]
    },
    {
      "cell_type": "markdown",
      "metadata": {
        "id": "-6ID1PKTDmNN"
      },
      "source": [
        "Prakash is bored and wants to spends his time. He starts rolling a die and observes the value that is shown. He rolls the dice N times and observes that just one number appears distinctly, all the others get repeated or does not appear at all. Find out which was the number that puzzled Prakash for sometime, after which he realised that it was just a coincidence.\n",
        "\n",
        "Constraints\n",
        "\n",
        "0 <   N  <= 100\n",
        "\n",
        "0 <= A[i] <= 100\n",
        " \n",
        "\n",
        "Input Description:\n",
        "\n",
        "The first line contains a positive integer N, denoting the size of the array. The second line contains N positive integers, denoting the face values that appeared when the die was rolled.\n",
        "\n",
        "Output Description:\n",
        "\n",
        "Print out the singly occurring number.\n",
        "\n",
        "Sample Input :\n",
        "\n",
        "5\n",
        "\n",
        "1 1 2 5 5\n",
        "\n",
        "Sample Output :\n",
        "\n",
        "2"
      ]
    },
    {
      "cell_type": "code",
      "execution_count": null,
      "metadata": {
        "id": "AdXTuxUHDurm"
      },
      "outputs": [],
      "source": [
        "number=input()\n",
        "s=input().split()\n",
        "\n",
        "count=[x for x in s if s.count(x)==1]\n",
        "print(*count)"
      ]
    },
    {
      "cell_type": "markdown",
      "metadata": {
        "id": "VRb67MPdD40S"
      },
      "source": [
        "Given 2 numbers N and K followed by N elements,print the number of repetition of K otherwise print '-1' if the element not found.\n",
        "\n",
        "Sample Testcase :\n",
        "\n",
        "INPUT\n",
        "\n",
        "6 2\n",
        "\n",
        "1 2 3 5 7 8\n",
        "\n",
        "OUTPUT\n",
        "\n",
        "0"
      ]
    },
    {
      "cell_type": "code",
      "execution_count": null,
      "metadata": {
        "id": "0An1_PANEASg"
      },
      "outputs": [],
      "source": [
        "a=input().split()\n",
        "b=list(map(int,a))\n",
        "N,K=b\n",
        "l=input().split()\n",
        "L=list(map(int,l))\n",
        "print(L.count(K)-1) if L.count(K)>=1 else print(-1)"
      ]
    },
    {
      "cell_type": "markdown",
      "metadata": {
        "id": "8Tsvnda3EE25"
      },
      "source": [
        "Your old mobile phone gets broken and so you want to purchase a new smartphone and decide to go through all the online websites to find out which dealer has the best offer for a particular model. You document the prices of N dealers. Dealer ids start from 0 and go up to N.  Find out which dealer has the best price for you.\n",
        "\n",
        "Constraints:\n",
        "\n",
        "1 <= N <= 100\n",
        "\n",
        "1 <= A[] <= 100000\n",
        "\n",
        " \n",
        "\n",
        "Input Description:\n",
        "\n",
        "Number of dealers followed by the price offered by each dealer\n",
        "\n",
        "Output Description:\n",
        "\n",
        "Dealer offering the best price.\n",
        "\n",
        "Sample Input :\n",
        "\n",
        "3\n",
        "\n",
        "10000 11200 12030\n",
        "\n",
        "Sample Output :\n",
        "\n",
        "Dealer0"
      ]
    },
    {
      "cell_type": "code",
      "execution_count": null,
      "metadata": {
        "id": "QfRsttb4EJ-9"
      },
      "outputs": [],
      "source": [
        "no_of_dealers=input()\n",
        "prices=input().split()\n",
        "prices=list(map(int,prices))\n",
        "minimum=min(prices)\n",
        "print(\"Dealer{}\".format(prices.index(minimum)))"
      ]
    },
    {
      "cell_type": "markdown",
      "metadata": {
        "id": "94TZPueBERb5"
      },
      "source": [
        "Given a string S, print 2 strings such that first string containing all characters in odd position(s) and other containing all characters in even position(s).\n",
        "\n",
        "Sample Testcase :\n",
        "\n",
        "INPUT\n",
        "\n",
        "XCODE\n",
        "\n",
        "OUTPUT\n",
        "\n",
        "XOE CD"
      ]
    },
    {
      "cell_type": "code",
      "execution_count": null,
      "metadata": {
        "id": "V0-szwq5ETn2"
      },
      "outputs": [],
      "source": [
        "s=input()\n",
        "evenString=\"\"\n",
        "oddString=\"\"\n",
        "for x in range(0,len(s),2):\n",
        "    try:\n",
        "        a=s[x]\n",
        "        evenString=evenString+a\n",
        "    except:\n",
        "        pass\n",
        "for y in range(1,len(s),2):\n",
        "    try:\n",
        "        b=s[y]\n",
        "        oddString=oddString+b\n",
        "    except:\n",
        "        pass\n",
        "\n",
        "print(evenString+\" \"+oddString)"
      ]
    },
    {
      "cell_type": "markdown",
      "metadata": {
        "id": "0KrVJ8FzEaCg"
      },
      "source": [
        "Given a sentence and string S, find how many times S occurs in the given sentence.If S is not found in the sentence print -1\n",
        "\n",
        "Input Size : |sentence| <= 1000000(complexity O(n)).\n",
        "\n",
        "Sample Testcase :\n",
        "\n",
        "INPUT\n",
        "\n",
        "I enjoy doing codekata\n",
        "\n",
        "codekata\n",
        "\n",
        "OUTPUT\n",
        "\n",
        "1"
      ]
    },
    {
      "cell_type": "code",
      "execution_count": null,
      "metadata": {
        "id": "bAmlhJFMEnpf"
      },
      "outputs": [],
      "source": [
        "sentence=input()\n",
        "string=input()\n",
        "\n",
        "if string in sentence:\n",
        "    num=sentence.count(string)\n",
        "    print(num)\n",
        "else:\n",
        "    print(-1) "
      ]
    },
    {
      "cell_type": "markdown",
      "metadata": {
        "id": "CjueyETWEyXj"
      },
      "source": [
        "Given 2 strings S1 and s2, check whether they are case senitively equal without using any predefined function(case sensitive).If they are not same print 'no'\n",
        "\n",
        "Sample Testcase :\n",
        "\n",
        "INPUT\n",
        "\n",
        "guvi guvi\n",
        "\n",
        "OUTPUT\n",
        "\n",
        "yes"
      ]
    },
    {
      "cell_type": "code",
      "execution_count": null,
      "metadata": {
        "id": "oJ3iYH8iE27C"
      },
      "outputs": [],
      "source": [
        "s1,s2=input().split()\n",
        "# s2=input()\n",
        "num=0\n",
        "\n",
        "for x in range(len(s1)):\n",
        "    if s1[x]==s2[x]:\n",
        "        num+=1\n",
        "\n",
        "print('yes') if num==len(s1) else print('no')"
      ]
    },
    {
      "cell_type": "markdown",
      "metadata": {
        "id": "oRFqs-gDFIoC"
      },
      "source": [
        "Given a sentence S take out the extra spaces.If no extra space is present print the same as output.\n",
        "Input Size : |s| <= 100000(complexity O(n))\n",
        "\n",
        "Sample Testcase :\n",
        "\n",
        "INPUT\n",
        "\n",
        "codekata challenge\n",
        "\n",
        "OUTPUT\n",
        "\n",
        "codekata challenge"
      ]
    },
    {
      "cell_type": "code",
      "execution_count": null,
      "metadata": {
        "id": "ofKUhITFFOFy"
      },
      "outputs": [],
      "source": [
        "s=input().split()\n",
        "s_New=s[0]\n",
        "for x in range(1,len(s)):\n",
        "    s_New=s_New+\" \"+s[x].strip()\n",
        "print(s_New)"
      ]
    },
    {
      "cell_type": "markdown",
      "metadata": {
        "id": "a87W579TFUg6"
      },
      "source": [
        "Given a string 'S' swap the even and odd characters starting from index 1(Assume the index starts from 0).\n",
        "\n",
        "Input Size : |s| <= 10000000(complexity O(n))\n",
        "\n",
        "Sample Testcase :\n",
        "\n",
        "INPUT\n",
        "\n",
        "codekata\n",
        "\n",
        "OUTPUT\n",
        "\n",
        "ocedakat"
      ]
    },
    {
      "cell_type": "code",
      "execution_count": null,
      "metadata": {
        "id": "aIDJAz1yFckt"
      },
      "outputs": [],
      "source": [
        "s=input()\n",
        "s=''.join([ s[x:x+2][::-1] for x in range(0, len(s), 2) ])\n",
        "print(s)"
      ]
    },
    {
      "cell_type": "markdown",
      "metadata": {
        "id": "S-AgtFuJFlwD"
      },
      "source": [
        "Given a string S, print the reverse of the string after removing the vowels.If the resulting string is empty print '-1'.\n",
        "Input Size : 1 <= N <= 100000\n",
        "\n",
        "Sample Testcase :\n",
        "\n",
        "INPUT\n",
        "\n",
        "codekata\n",
        "\n",
        "OUTPUT\n",
        "\n",
        "tkdc"
      ]
    },
    {
      "cell_type": "code",
      "execution_count": null,
      "metadata": {
        "id": "yA0yUGDTFpUx"
      },
      "outputs": [],
      "source": [
        "s=input()\n",
        "vowels=[\"a\",\"e\",\"i\",\"o\",\"u\",'A','E','I','O','U']\n",
        "\n",
        "for x in s:\n",
        "    if x in vowels:\n",
        "        s=s.replace(x,\"\")\n",
        "    else:\n",
        "        pass\n",
        "print(s[::-1]) if len(s)!=0 else print('-1')"
      ]
    },
    {
      "cell_type": "markdown",
      "metadata": {
        "id": "Gn5rnUmeF2PT"
      },
      "source": [
        "A number is given as input.Find the maximum number that can be formed using the digits.\n",
        "\n",
        "Input Size : N <= 10000000\n",
        "\n",
        "Sample Testcase :\n",
        "\n",
        "INPUT\n",
        "\n",
        "4123\n",
        "\n",
        "OUTPUT\n",
        "\n",
        "4321"
      ]
    },
    {
      "cell_type": "code",
      "execution_count": null,
      "metadata": {
        "id": "yBitqRsmF8j3"
      },
      "outputs": [],
      "source": [
        "s=input()\n",
        "s=[int(x) for x in s]\n",
        "s.sort(reverse=True)\n",
        "r=[str(x) for x in s]\n",
        "t=''\n",
        "for x in r:\n",
        "    t=t+x\n",
        "\n",
        "print(t)"
      ]
    },
    {
      "cell_type": "markdown",
      "metadata": {
        "id": "vA8mnjKQGCXq"
      },
      "source": [
        "Given an array of N elements switch(swap) the element with the adjacent element and print the output.\n",
        "\n",
        "Sample Testcase :\n",
        "\n",
        "INPUT\n",
        "\n",
        "5\n",
        "\n",
        "3 2 1 2 3\n",
        "\n",
        "OUTPUT\n",
        "\n",
        "2 3 2 1 3"
      ]
    },
    {
      "cell_type": "code",
      "execution_count": null,
      "metadata": {
        "id": "ctDHKcnaGFig"
      },
      "outputs": [],
      "source": [
        "n=input()\n",
        "a=input().split()\n",
        "s=list(map(int,a))\n",
        "\n",
        "for x in range(0,len(s),2):\n",
        "    if x+1<len(s):\n",
        "        s[x:x+2]=[s[x+1],s[x]]\n",
        "    elif x+2==len(s):\n",
        "        s[x:x+2]=[s[x+1],s[x]]\n",
        "\n",
        "print(*s)\n",
        "    "
      ]
    },
    {
      "cell_type": "markdown",
      "metadata": {
        "id": "KDRwb0w7GRlm"
      },
      "source": [
        "Given a string and a number K.Print every kth character from the beginning.\n",
        "\n",
        "Sample Testcase :\n",
        "\n",
        "INPUT\n",
        "\n",
        "string 3\n",
        "\n",
        "OUTPUT\n",
        "\n",
        "r g"
      ]
    },
    {
      "cell_type": "code",
      "execution_count": null,
      "metadata": {
        "id": "eBvmGJwQGWFh"
      },
      "outputs": [],
      "source": [
        "s=input()\n",
        "s,n=s.split()\n",
        "n=int(n)\n",
        "t=list()\n",
        "for x in range(1,len(s)+1):\n",
        "    try:\n",
        "        r=s[n*x-1]\n",
        "        t.append(r)\n",
        "    except:\n",
        "        pass    \n",
        "print(*t)"
      ]
    },
    {
      "cell_type": "markdown",
      "metadata": {
        "id": "s_Tz2IQMGgq-"
      },
      "source": [
        "Given a string and a number K, change every kth character to uppercase from beginning in string.\n",
        "\n",
        "Sample Testcase :\n",
        "\n",
        "INPUT\n",
        "\n",
        "string 2\n",
        "\n",
        "OUTPUT\n",
        "\n",
        "sTrInG"
      ]
    },
    {
      "cell_type": "code",
      "execution_count": null,
      "metadata": {
        "id": "QxUr7J-DGnd9"
      },
      "outputs": [],
      "source": [
        "s,k=input().split()\n",
        "# s=s.split()\n",
        "k=int(k)\n",
        "if k!=0:\n",
        "    for x in range(0+k-1,len(s),k):\n",
        "        a=s[x]\n",
        "        b=s[x].upper()\n",
        "\n",
        "        try:\n",
        "            s=s.replace(a,b)\n",
        "        except:\n",
        "            pass    \n",
        "print(s) "
      ]
    },
    {
      "cell_type": "markdown",
      "metadata": {
        "id": "scDqQkgEG2LB"
      },
      "source": [
        "Given a string S consisting of a sentence, the task is to reverse every word of the sentence except the first and last character of the words.\n",
        "\n",
        "Sample Testcase :\n",
        "\n",
        "INPUT\n",
        "\n",
        "guvi coding platform\n",
        "\n",
        "OUTPUT\n",
        "\n",
        "gvui cnidog proftalm."
      ]
    },
    {
      "cell_type": "code",
      "execution_count": null,
      "metadata": {
        "id": "X7pQ66FIG8NZ"
      },
      "outputs": [],
      "source": [
        "s=input().split()\n",
        "r=''\n",
        "\n",
        "def reversing(string):\n",
        "    global r\n",
        "    r=string[0]+string[1:-1][::-1]+string[-1]\n",
        "    return r\n",
        "\n",
        "result=[reversing(x) if len(x)!=1 else x for x in s ]\n",
        "print(*result)"
      ]
    },
    {
      "cell_type": "markdown",
      "metadata": {
        "id": "o-Gxg49yHDtX"
      },
      "source": [
        "Given a string S, print 'yes' if the strings 'GUVI' and 'GEEK' is present case-sensitively in the string else print 'no'.\n",
        "\n",
        "Input Size : 1 <= 100\n",
        "\n",
        "Sample Testcase :\n",
        "\n",
        "INPUT\n",
        "\n",
        "Vishal_Sundar prepared this question\n",
        "\n",
        "OUTPUT\n",
        "\n",
        "no"
      ]
    },
    {
      "cell_type": "code",
      "execution_count": null,
      "metadata": {
        "id": "UUYr_TAvHPPv"
      },
      "outputs": [],
      "source": [
        "s=input()\n",
        "\n",
        "print('yes') if 'GUVI' and \"GEEK\" in s else print('no')"
      ]
    },
    {
      "cell_type": "markdown",
      "metadata": {
        "id": "ZCC7nwhQHSmu"
      },
      "source": [
        "Given a string S,count the maximum number of times a character repeated in the string.If no character is repeated print '0'.\n",
        "\n",
        "Input Size : 1 <= N <= 100000\n",
        "\n",
        "Sample Testcase :\n",
        "\n",
        "INPUT\n",
        "\n",
        "codekata\n",
        "\n",
        "OUTPUT\n",
        "\n",
        "2"
      ]
    },
    {
      "cell_type": "code",
      "execution_count": null,
      "metadata": {
        "id": "J35Z6V-uHXzm"
      },
      "outputs": [],
      "source": [
        "s=input()\n",
        "\n",
        "l=[s.count(x) for x in s if s.count(x)>1]\n",
        "\n",
        "print(max(l)) if len(l) !=0 else print(0)"
      ]
    },
    {
      "cell_type": "markdown",
      "metadata": {
        "id": "S8a91G1eHdom"
      },
      "source": [
        "You are given with string of words,we have to arrange them in reverse saturated order.\n",
        "\n",
        "Input Description:\n",
        "\n",
        "You are given a string ‘s’.\n",
        "\n",
        "Output Description:\n",
        "\n",
        "Print the reverse saturated order\n",
        "\n",
        "Sample Input :\n",
        "\n",
        "I am kohli fan\n",
        "\n",
        "Sample Output :\n",
        "\n",
        "I ma ilhok naf"
      ]
    },
    {
      "cell_type": "code",
      "execution_count": null,
      "metadata": {
        "id": "lwCSi3wWHjzI"
      },
      "outputs": [],
      "source": [
        "s=input().split()\n",
        "r=s[0][::-1]\n",
        "\n",
        "for x in s[1:]:\n",
        "    r=r+ \" \" + x[::-1]\n",
        "\n",
        "print(r)"
      ]
    },
    {
      "cell_type": "markdown",
      "metadata": {
        "id": "4JHvJ8p2Hy3L"
      },
      "source": [
        "### **Mathematics**"
      ]
    },
    {
      "cell_type": "markdown",
      "metadata": {
        "id": "dQYwY-nzIDYJ"
      },
      "source": [
        "Given a number N, print yes if the number is a multiple of 7 else print no.\n",
        "\n",
        "Sample Testcase :\n",
        "\n",
        "INPUT\n",
        "\n",
        "49\n",
        "\n",
        "OUTPUT\n",
        "\n",
        "yes"
      ]
    },
    {
      "cell_type": "code",
      "execution_count": null,
      "metadata": {
        "id": "0N5R5WVHIJvW"
      },
      "outputs": [],
      "source": [
        "number=input()\n",
        "number=int(number)\n",
        "\n",
        "print('yes') if number%7 == 0 else print('no')"
      ]
    },
    {
      "cell_type": "markdown",
      "metadata": {
        "id": "aEqJLASdIQKC"
      },
      "source": [
        "In XYZ country there is rule that car’s engine no. depends upon car’ number plate. Engine no is sum of all the integers present on car’s Number plate.The issuing authority has hired you in order to provide engine no. to the cars.Your task is to develop an algorithm which takes input as in form of string(Number plate) and gives back\n",
        "\n",
        "Engine number.\n",
        "\n",
        "Input Description:\n",
        "\n",
        "You are given a string ’s’\n",
        "\n",
        "Output Description:\n",
        "\n",
        "Print the engine number\n",
        "\n",
        "Sample Input :\n",
        "\n",
        "HR05-AA-2669\n",
        "\n",
        "Sample Output :\n",
        "\n",
        "28"
      ]
    },
    {
      "cell_type": "code",
      "execution_count": null,
      "metadata": {
        "id": "DdHjtfXLIXPH"
      },
      "outputs": [],
      "source": [
        "s=input()\n",
        "s1=list(s)\n",
        "i=[]\n",
        "sum=0\n",
        "\n",
        "for x in s1:\n",
        "    try:\n",
        "        t=int(x)\n",
        "        i.append(t)\n",
        "        sum+=t\n",
        "    except:\n",
        "        pass\n",
        "\n",
        "print(sum)"
      ]
    },
    {
      "cell_type": "markdown",
      "metadata": {
        "id": "09OEnvi6InIJ"
      },
      "source": [
        "You are given a set of numbers, out of which you have to tell which of them are finest. A finest number ‘n’ is a number which is formed by a number ‘t’ such that\n",
        "\n",
        "n=t^3+(t+1)^3\n",
        "\n",
        "t is a natural number\n",
        "\n",
        "Input Description:\n",
        "\n",
        "You are given a number ‘z’ representing total numbers in an array, Next line contains z space separated numbers.\n",
        "\n",
        "Output Description:\n",
        "\n",
        "Print the numbers which are finest in ascending order if there are no such numbers print -1.\n",
        "\n",
        "Sample Input :\n",
        "\n",
        "2\n",
        "\n",
        "1729 189\n",
        "\n",
        "Sample Output :\n",
        "\n",
        "189 1729"
      ]
    },
    {
      "cell_type": "code",
      "execution_count": null,
      "metadata": {
        "id": "0YLgPln7I_bu"
      },
      "outputs": [],
      "source": [
        "def finest_Numbers(higher_limit):\n",
        "    fNumbers=[]\n",
        "    for x in range(1,higher_limit+1):\n",
        "\n",
        "        finest_number=x**3+(x+1)**3\n",
        "        fNumbers.append(finest_number)\n",
        "    return fNumbers                         # returns list of finest numbers upto the number passed as argument\n",
        "\n",
        "z=input()\n",
        "numbers=input().split()\n",
        "numbers=list(map(int,numbers))\n",
        "new_list_of_fNumbers=[]\n",
        "\n",
        "our_finest_numbers=finest_Numbers(25)\n",
        "\n",
        "for x in numbers:\n",
        "    if x in our_finest_numbers:\n",
        "        new_list_of_fNumbers.append(x)\n",
        "\n",
        "new_list_of_fNumbers.sort()\n",
        "\n",
        "print(*new_list_of_fNumbers)"
      ]
    },
    {
      "cell_type": "markdown",
      "metadata": {
        "id": "I0RB9kSAJDMk"
      },
      "source": [
        "You are given a number ‘n’. You have to tell whether a number is great or not. A great number is a number whose sum of digits let (m) and product of digits let(j) when summed together gives the number back\n",
        "\n",
        "m+j=n\n",
        "\n",
        "Input Description:\n",
        "You are given a number n;\n",
        "\n",
        "Output Description:\n",
        "Print Great if a number is great else print the no\n",
        "\n",
        "Sample Input :\n",
        "59\n",
        "Sample Output :\n",
        "Great"
      ]
    },
    {
      "cell_type": "code",
      "execution_count": null,
      "metadata": {
        "id": "wwDCzSMMJHs4"
      },
      "outputs": [],
      "source": [
        "n=input()\n",
        "n_new=list(n)\n",
        "\n",
        "n=int(n)\n",
        "n_new=list(map(int,n_new))\n",
        "m=0\n",
        "j=1\n",
        "\n",
        "for x in n_new:\n",
        "    m=m+x\n",
        "    j=j*x\n",
        "\n",
        "print(\"Great\") if n==m+j else print('no')"
      ]
    },
    {
      "cell_type": "markdown",
      "metadata": {
        "id": "hEB-2JdgJMmM"
      },
      "source": [
        "Find the minimum among 10 numbers.\n",
        "\n",
        "Sample Testcase :\n",
        "\n",
        "INPUT\n",
        "\n",
        "5 4 3 2 1 7 6 10 8 9\n",
        "\n",
        "OUTPUT\n",
        "\n",
        "1"
      ]
    },
    {
      "cell_type": "code",
      "execution_count": null,
      "metadata": {
        "id": "tZTO8jVQJQfN"
      },
      "outputs": [],
      "source": [
        "a=input().split()\n",
        "b=map(int,a)\n",
        "#print(b)\n",
        "print(min(b))"
      ]
    },
    {
      "cell_type": "markdown",
      "metadata": {
        "id": "4AIiuUnHJWJ6"
      },
      "source": [
        "Pk finds it difficult to judge the minimum element in the list of elements given to him. Your task is to develop the algorithm in order to find the minimum element.\n",
        "\n",
        "Note:Don’t use sorting\n",
        "\n",
        "Input Description:\n",
        "You are given ‘n’ number of elements. Next line contains n space separated numbers.\n",
        "\n",
        "Output Description:\n",
        "Print the minimum element\n",
        "\n",
        "Sample Input :\n",
        "5\n",
        "3 4 9 1 6\n",
        "Sample Output :\n",
        "1"
      ]
    },
    {
      "cell_type": "code",
      "execution_count": null,
      "metadata": {
        "id": "ThYIEa3FJeQn"
      },
      "outputs": [],
      "source": [
        "n=int(input())\n",
        "elements=list(map(int,input().split()))\n",
        "min_element=elements[0]\n",
        "for i in elements:\n",
        "    if i<min_element:\n",
        "        min_element=i \n",
        "print(min_element)"
      ]
    },
    {
      "cell_type": "markdown",
      "metadata": {
        "id": "2XE-WuMgJnKC"
      },
      "source": [
        "Given a number N, print 'yes' if it is composite else print 'no'.\n",
        "\n",
        "Sample Testcase :\n",
        "\n",
        "INPUT\n",
        "\n",
        "123\n",
        "\n",
        "OUTPUT\n",
        "\n",
        "yes"
      ]
    },
    {
      "cell_type": "code",
      "execution_count": null,
      "metadata": {
        "id": "vb2HdrtmJqAV"
      },
      "outputs": [],
      "source": [
        "n=int(input())\n",
        "#print(type(n))\n",
        "if n==1 or n==2:\n",
        "    #print(\"in 1st if\")\n",
        "    print(\"no\")\n",
        "else:\n",
        "    #print(\"in 1st else\")\n",
        "    for i in range(2,n):\n",
        "        #print(\"entered for loop\")\n",
        "        if n%i==0:\n",
        "            #print(\"2nd if\")\n",
        "            print(\"yes\")\n",
        "            break\n",
        "        elif n%i!=0 and i+1==n:\n",
        "            #print(\"2nd else\")\n",
        "            print(\"no\")"
      ]
    },
    {
      "cell_type": "markdown",
      "metadata": {
        "id": "OdLNPuJrJxiH"
      },
      "source": [
        "Given 3 numbers N , L and R. Print 'yes' if N is between L and R else print 'no'.\n",
        "\n",
        "Sample Testcase :\n",
        "\n",
        "INPUT\n",
        "\n",
        "3\n",
        "\n",
        "2 6\n",
        "\n",
        "OUTPUT\n",
        "\n",
        "yes"
      ]
    },
    {
      "cell_type": "code",
      "execution_count": null,
      "metadata": {
        "id": "r6Bx6RHxJ3Tp"
      },
      "outputs": [],
      "source": [
        "n=int(input())\n",
        "b=input().split()\n",
        "l,r=list(map(int,b))\n",
        "print(\"yes\") if n>l and n<r else print(\"no\")"
      ]
    },
    {
      "cell_type": "markdown",
      "metadata": {
        "id": "9WUM6ySJKAWv"
      },
      "source": [
        "Given 2 numbers N,M. Print 'yes' if their product is a perfect square else print 'no'.\n",
        "\n",
        "Sample Testcase :\n",
        "\n",
        "INPUT\n",
        "\n",
        "5 5\n",
        "\n",
        "OUTPUT\n",
        "\n",
        "yes"
      ]
    },
    {
      "cell_type": "code",
      "execution_count": null,
      "metadata": {
        "id": "lDidYzQqKE_m"
      },
      "outputs": [],
      "source": [
        "a=input().split(' ')\n",
        "n,m=list(map(int,a))\n",
        "#n=int(input())\n",
        "#m=int(input())\n",
        "p=n*m\n",
        "r=int((p)**0.5)\n",
        "s=r*r\n",
        "if s==p : \n",
        "    print(\"yes\") \n",
        "else:\n",
        "    print(\"no\")"
      ]
    },
    {
      "cell_type": "markdown",
      "metadata": {
        "id": "qUWBQs_HKNPj"
      },
      "source": [
        "Write a program to print the sum of the first K natural numbers.\n",
        "\n",
        "Input Size : n <= 100000\n",
        "\n",
        "Sample Testcase :\n",
        "\n",
        "INPUT\n",
        "\n",
        "3\n",
        "\n",
        "OUTPUT\n",
        "\n",
        "6"
      ]
    },
    {
      "cell_type": "code",
      "execution_count": null,
      "metadata": {
        "id": "y7lCibUIKTLT"
      },
      "outputs": [],
      "source": [
        "k=int(input())\n",
        "sum=(k*(k+1))/2\n",
        "print(sum)"
      ]
    },
    {
      "cell_type": "markdown",
      "metadata": {
        "id": "sZG2gN1vKXNY"
      },
      "source": [
        "You are given with a string which comprises of some numbers. Your task is to find the largest integer by converting the string to the corresponding integer.\n",
        "\n",
        "Input Description:\n",
        "\n",
        "First line contains n denoting number of Test Cases. The first and only Line of testcase has the string\n",
        "\n",
        "Output Description:\n",
        "\n",
        "Print the largest number\n",
        "\n",
        "Sample Input :\n",
        "\n",
        "I was born on 12 october 1998.\n",
        "\n",
        "Sample Output :\n",
        "\n",
        "1998"
      ]
    },
    {
      "cell_type": "code",
      "execution_count": null,
      "metadata": {
        "id": "q5rOw26dKdJA"
      },
      "outputs": [],
      "source": [
        "s=input().split(\".\")\n",
        "#print(s)\n",
        "\n",
        "I=[]\n",
        "\n",
        "s=[x.split() for x in s]\n",
        "#print(\"2nd: \",s)\n",
        "\n",
        "r=[]\n",
        "[r.extend(y) for y in s]\n",
        "#print(\"r:\",r)    \n",
        "\n",
        "for x in r:\n",
        "    try:\n",
        "        t=int(x)\n",
        "        I.append(t)\n",
        "    except:\n",
        "        pass\n",
        "    \n",
        "maxi=max(I)\n",
        "print(maxi)"
      ]
    },
    {
      "cell_type": "markdown",
      "metadata": {
        "id": "0HSIlR2JKncC"
      },
      "source": [
        "Given 2 numbers N and K followed by N elements,print the number of repetition of K otherwise print '-1' if the element not found.\n",
        "\n",
        "Sample Testcase :\n",
        "\n",
        "INPUT\n",
        "\n",
        "6 2\n",
        "\n",
        "1 2 3 5 7 8\n",
        "\n",
        "OUTPUT\n",
        "\n",
        "0"
      ]
    },
    {
      "cell_type": "code",
      "execution_count": null,
      "metadata": {
        "id": "bdrnofOIKtap"
      },
      "outputs": [],
      "source": [
        "a=input().split()\n",
        "b=list(map(int,a))\n",
        "N,K=b\n",
        "l=input().split()\n",
        "L=list(map(int,l))\n",
        "print(L.count(K)-1) if L.count(K)>=1 else print(-1)"
      ]
    },
    {
      "cell_type": "markdown",
      "metadata": {
        "id": "0dvZzkuFK6zB"
      },
      "source": [
        "Kabali is a brave warrior who with his group of young ninjas moves from one place to another to fight against his opponents. Before Fighting he just calculates one thing, the difference between his ninja number and the opponent's ninja number. From this difference he decides whether to fight or not. Kabali's ninja number is never greater than his opponent.\n",
        "\n",
        "Input\n",
        "\n",
        "The input contains two numbers in every line. These two numbers in each line denotes the number ninjas in Kabali's clan and his opponent's clan . print the absolute difference of number of ninjas between Kabali's clan and his opponent's clan. Each output should be in seperate line.\n",
        "\n",
        "Sample Testcase :\n",
        "\n",
        "INPUT\n",
        "\n",
        "100 200\n",
        "\n",
        "OUTPUT\n",
        "\n",
        "100"
      ]
    },
    {
      "cell_type": "code",
      "execution_count": null,
      "metadata": {
        "id": "uh7jJxvOLDdH"
      },
      "outputs": [],
      "source": [
        "a=input().split()\n",
        "l=list(map(int,a))\n",
        "k_Ninja,o_Ninja=l\n",
        "#print(k_Ninja,o_Ninja)\n",
        "diff=abs(k_Ninja-o_Ninja)\n",
        "print(diff)"
      ]
    },
    {
      "cell_type": "markdown",
      "metadata": {
        "id": "xe88nDIKLVm9"
      },
      "source": [
        "Given numbers A,B find A^B.\n",
        "\n",
        "Input Size : 1 <= A <= 5 <= B <= 50\n",
        "\n",
        "Sample Testcase :\n",
        "\n",
        "INPUT\n",
        "\n",
        "3 4\n",
        "\n",
        "OUTPUT\n",
        "\n",
        "81"
      ]
    },
    {
      "cell_type": "code",
      "execution_count": null,
      "metadata": {
        "id": "mtAapKMHLdd_"
      },
      "outputs": [],
      "source": [
        "a=input().split()\n",
        "b=list(map(int,a))\n",
        "i,j=b\n",
        "p=i**j\n",
        "print(p)"
      ]
    },
    {
      "cell_type": "markdown",
      "metadata": {
        "id": "Z11xV_N8LnzT"
      },
      "source": [
        "Given base(B) and height(H) of a triangle find its area.\n",
        "\n",
        "Input Size : N <= 1000000\n",
        "\n",
        "Sample Testcase :\n",
        "\n",
        "INPUT\n",
        "\n",
        "2 4\n",
        "\n",
        "OUTPUT\n",
        "\n",
        "4"
      ]
    },
    {
      "cell_type": "code",
      "execution_count": null,
      "metadata": {
        "id": "1fSwyDLVLtKL"
      },
      "outputs": [],
      "source": [
        "a=input().split(' ')\n",
        "n,m=list(map(int,a))\n",
        "area=n*m/2\n",
        "print(area)"
      ]
    },
    {
      "cell_type": "markdown",
      "metadata": {
        "id": "6JhacHYpLzLF"
      },
      "source": [
        "Given a string S.Validate if a given string is numeric.print 'yes' if it is a numeric otherwise print 'no'.\n",
        "\n",
        "Sample Testcase :\n",
        "\n",
        "INPUT\n",
        "\n",
        "guvigeeks\n",
        "\n",
        "OUTPUT\n",
        "\n",
        "no"
      ]
    },
    {
      "cell_type": "code",
      "execution_count": null,
      "metadata": {
        "id": "dvydWrAyL4UN"
      },
      "outputs": [],
      "source": [
        "s=input()\n",
        "\n",
        "try:\n",
        "    list(map(int,s))\n",
        "except:\n",
        "    print(\"no\")\n",
        "else:\n",
        "    print(\"yes\")"
      ]
    },
    {
      "cell_type": "markdown",
      "metadata": {
        "id": "FgclUIk-L9lg"
      },
      "source": [
        "Given 2 numbers N,M find the GCD of N and M.If it cannot be found for given number(s) then print -1\n",
        "Sample Testcase :\n",
        "\n",
        "INPUT\n",
        "\n",
        "10 5\n",
        "\n",
        "OUTPUT\n",
        "\n",
        "5"
      ]
    },
    {
      "cell_type": "code",
      "execution_count": null,
      "metadata": {
        "id": "abtfXi8ZMC7s"
      },
      "outputs": [],
      "source": [
        "import math\n",
        "a=input().split()\n",
        "l=list(map(int,a))\n",
        "m,n=l\n",
        "gcd=math.gcd(m,n)\n",
        "if gcd!=0 and gcd==1:\n",
        " print(gcd)\n",
        "else:\n",
        " print(-1)"
      ]
    },
    {
      "cell_type": "markdown",
      "metadata": {
        "id": "dJIRXSzMMLsa"
      },
      "source": [
        "Given a number N,check whether it has repeating digits in it.print 'yes' if it has repeating digits otherwise print 'no'.\n",
        "\n",
        "Sample Testcase :\n",
        "\n",
        "INPUT\n",
        "\n",
        "11234\n",
        "\n",
        "OUTPUT\n",
        "\n",
        "yes"
      ]
    },
    {
      "cell_type": "code",
      "execution_count": null,
      "metadata": {
        "id": "UPgDJVU8Mcpj"
      },
      "outputs": [],
      "source": [
        "s= input()\n",
        "def repeat(s):\n",
        "    for x in s:\n",
        "        try:\n",
        "            if s.count(x)>1:\n",
        "                a=True\n",
        "                return a\n",
        "            else:\n",
        "                a=False\n",
        "                return a \n",
        "        except:\n",
        "            pass    \n",
        "b=repeat(s)\n",
        "print(\"yes\") if b == True else print(\"no\")"
      ]
    },
    {
      "cell_type": "markdown",
      "metadata": {
        "id": "F9i8dxlwMipb"
      },
      "source": [
        "Given an array of N elements switch(swap) the element with the adjacent element and print the output.\n",
        "\n",
        "Sample Testcase :\n",
        "\n",
        "INPUT\n",
        "\n",
        "5\n",
        "\n",
        "3 2 1 2 3\n",
        "\n",
        "OUTPUT\n",
        "\n",
        "2 3 2 1 3"
      ]
    },
    {
      "cell_type": "code",
      "execution_count": null,
      "metadata": {
        "id": "lidAsZV2MqGp"
      },
      "outputs": [],
      "source": [
        "n=input()\n",
        "a=input().split()\n",
        "s=list(map(int,a))\n",
        "\n",
        "for x in range(0,len(s),2):\n",
        "    if x+1<len(s):\n",
        "        s[x:x+2]=[s[x+1],s[x]]\n",
        "    elif x+2==len(s):\n",
        "        s[x:x+2]=[s[x+1],s[x]]\n",
        "\n",
        "print(*s)"
      ]
    },
    {
      "cell_type": "markdown",
      "metadata": {
        "id": "7yHB8OCXMtry"
      },
      "source": [
        "Given 3 numbers A,B,C print 'yes' if they can form the sides of a right angled triangle,otherwise 'no'.\n",
        "\n",
        "Input Size : A,B,C <= 100000\n",
        "\n",
        "Sample Testcase :\n",
        "\n",
        "INPUT\n",
        "\n",
        "3 4 5\n",
        "\n",
        "OUTPUT\n",
        "\n",
        "yes"
      ]
    },
    {
      "cell_type": "code",
      "execution_count": null,
      "metadata": {
        "id": "jigzGw4QM5cc"
      },
      "outputs": [],
      "source": [
        "a=input().split()\n",
        "b=list(map(int,a))\n",
        "b.sort()\n",
        "\n",
        "print(\"yes\") if b[2]**2==(b[0]**2+b[1]**2) else print(\"no\")"
      ]
    },
    {
      "cell_type": "markdown",
      "metadata": {
        "id": "nHZ01MSZM8jZ"
      },
      "source": [
        "A number is given as input.Find the maximum number that can be formed using the digits.\n",
        "\n",
        "Input Size : N <= 10000000\n",
        "\n",
        "Sample Testcase :\n",
        "\n",
        "INPUT\n",
        "\n",
        "4123\n",
        "\n",
        "OUTPUT\n",
        "\n",
        "4321"
      ]
    },
    {
      "cell_type": "code",
      "execution_count": null,
      "metadata": {
        "id": "KHQuPWonNBfD"
      },
      "outputs": [],
      "source": [
        "s=input()\n",
        "s=[int(x) for x in s]\n",
        "s.sort(reverse=True)\n",
        "r=[str(x) for x in s]\n",
        "t=''\n",
        "for x in r:\n",
        "    t=t+x\n",
        "\n",
        "print(t)"
      ]
    },
    {
      "cell_type": "markdown",
      "metadata": {
        "id": "S3OTVvBLN129"
      },
      "source": [
        "Given 3 numbers A,B,C process and print 'yes' if they can form the sides of a triangle otherwise print 'no'.\n",
        "\n",
        "Input Size : A,B,C <= 100000\n",
        "\n",
        "Sample Testcase :\n",
        "\n",
        "INPUT\n",
        "\n",
        "3 4 5\n",
        "\n",
        "OUTPUT\n",
        "\n",
        "yes"
      ]
    },
    {
      "cell_type": "code",
      "execution_count": null,
      "metadata": {
        "id": "6Ywj14AyNRPo"
      },
      "outputs": [],
      "source": [
        "a=input().split()\n",
        "b=list(map(int,a))\n",
        "b.sort()\n",
        "\n",
        "print(\"yes\") if b[2]<(b[0]+b[1]) else print(\"no\")"
      ]
    },
    {
      "cell_type": "markdown",
      "metadata": {
        "id": "KnQqhDOZOa3Q"
      },
      "source": [
        "Given a number N, print the sum of its first and last digit.\n",
        "\n",
        "Input Size : |N| <= 10000\n",
        "\n",
        "Sample Testcase :\n",
        "\n",
        "INPUT\n",
        "\n",
        "51233\n",
        "\n",
        "OUTPUT\n",
        "\n",
        "8"
      ]
    },
    {
      "cell_type": "code",
      "execution_count": null,
      "metadata": {
        "id": "RjiPAarTOh1q"
      },
      "outputs": [],
      "source": [
        "s=input()\n",
        "first,last=map(int,[s[0],s[-1]])\n",
        "print(first+last)"
      ]
    },
    {
      "cell_type": "markdown",
      "metadata": {
        "id": "XhagTw7SOnfK"
      },
      "source": [
        "Given a number N, print the sum of the squares of its digits.\n",
        "\n",
        "Input Size : 1 <= N <= 1000000000000000000\n",
        "\n",
        "Sample Testcase :\n",
        "\n",
        "INPUT\n",
        "\n",
        "19\n",
        "\n",
        "OUTPUT\n",
        "\n",
        "82"
      ]
    },
    {
      "cell_type": "code",
      "execution_count": null,
      "metadata": {
        "id": "3lkbNyIOOx-U"
      },
      "outputs": [],
      "source": [
        "s=input()\n",
        "num=0\n",
        "for x in s:\n",
        "    num=num+int(x)**2\n",
        "\n",
        "print(num)"
      ]
    },
    {
      "cell_type": "markdown",
      "metadata": {
        "id": "axuhVLYRVqt6"
      },
      "source": [
        "The Caesar Cipher technique is one of the earliest and simplest method of encryption technique. It’s simply a type of substitution cipher, i.e., each letter of a given text is replaced by a letter some fixed number of positions down the alphabet. For example with a shift of 1, A would be replaced by B, B would become C, and so on. The method is apparently named after Julius Caesar, who apparently used it to communicate with his officials.For the given input string(S) and shift print the encrypted string.\n",
        "\n",
        "Sample Testcase :\n",
        "\n",
        "INPUT\n",
        "\n",
        "ABCdEFGHIJKLMNOPQRSTUVWXYz 23\n",
        "\n",
        "OUTPUT\n",
        "\n",
        "XYZaBCDEFGHIJKLMNOPQRSTUVw"
      ]
    },
    {
      "cell_type": "code",
      "execution_count": null,
      "metadata": {
        "id": "NTHc9soDVwtm"
      },
      "outputs": [],
      "source": [
        "a=input().split()\n",
        "#print(a)\n",
        "sOrg,shift=a\n",
        "sOrg=list(sOrg)\n",
        "shift=int(shift)\n",
        "# print(\"Shift: \",shift)\n",
        "# print(\"Length: \",len(sOrg))\n",
        "# print(sOrg)\n",
        "s=\"\"\n",
        "\n",
        "alp=[\"a\",\"b\",\"c\",\"d\",\"e\",\"f\",\"g\",\"h\",\"i\",\"j\",\"k\",\"l\",\"m\",\"n\",\"o\",\"p\",\"q\",\"r\",\"s\",\"t\",\"u\",\"v\",\"w\",\"x\",\"y\",\"z\"]\n",
        "length_alp=len(alp)\n",
        "#print(length_alp)\n",
        "\n",
        "def Conversion(m):\n",
        "    if m.isupper() == True:\n",
        "        m=m.lower()\n",
        "    return m\n",
        "\n",
        "def Convert(n,o):\n",
        "    if n.isupper() == True:\n",
        "        o=o.upper()\n",
        "    elif n.islower() == True:\n",
        "        o=o.lower()    \n",
        "    return o\n",
        "\n",
        "for x in sOrg:\n",
        "    \n",
        "    j=x\n",
        "    x=Conversion(x)\n",
        "    ind=alp.index(x)                        # getting index of x in alp list\n",
        "    #print(\"\\nIndex of x: \", ind)\n",
        "\n",
        "    if (ind+shift)<length_alp:\n",
        "        #print(j)\n",
        "        x= alp[ind+shift]\n",
        "        x=Convert(j,x)\n",
        "        s=s+x\n",
        "        #print(s)\n",
        "    else:\n",
        "        #print(j)\n",
        "        x= alp[ind+shift-length_alp]\n",
        "        x=Convert(j,x)\n",
        "        s=s+x\n",
        "        #print(s)\n",
        "\n",
        "print(s)"
      ]
    },
    {
      "cell_type": "markdown",
      "metadata": {
        "id": "8zWiZxObV88m"
      },
      "source": [
        "Given 2 strings S,X. Print 'yes' if their lengths are co-prime otherwise print 'no'.\n",
        "Input Size : 1 <= |s|, |x| <= 100000\n",
        "\n",
        "Sample Testcase :\n",
        "\n",
        "INPUT\n",
        "\n",
        "GUVIS GEEKTEC\n",
        "\n",
        "OUTPUT\n",
        "\n",
        "yes"
      ]
    },
    {
      "cell_type": "code",
      "execution_count": null,
      "metadata": {
        "id": "pF5BRv8aWIT9"
      },
      "outputs": [],
      "source": [
        "import math\n",
        "\n",
        "s1,s2=input().split()\n",
        "\n",
        "l1=len(s1)\n",
        "l2=len(s2)   \n",
        "\n",
        "gcd=math.gcd(l1,l2)\n",
        "\n",
        "print('yes') if gcd==1 else print('no')"
      ]
    },
    {
      "cell_type": "markdown",
      "metadata": {
        "id": "JnCj_jG4WOU-"
      },
      "source": [
        "Given three numbers L,R,N, print the count of numbers with occurences of the number N in [L,R].\n",
        "\n",
        "Input Size : 1 <= L,R,N <= 100000\n",
        "\n",
        "Sample Testcase :\n",
        "\n",
        "INPUT\n",
        "\n",
        "10 130 11\n",
        "\n",
        "OUTPUT\n",
        "\n",
        "11\n",
        "\n",
        "Explanation: 11,110,111,112....119"
      ]
    },
    {
      "cell_type": "code",
      "execution_count": null,
      "metadata": {
        "id": "RvmU7NHOWUBn"
      },
      "outputs": [],
      "source": [
        "L,R,N=input().split()\n",
        "L,R=map(int,[L,R])\n",
        "numbers=[x for x in range(L,R+1)]\n",
        "numbers=list(map(str,numbers))\n",
        "count=[x for x in numbers if N in x]\n",
        "print(len(count))"
      ]
    },
    {
      "cell_type": "markdown",
      "metadata": {
        "id": "LKECo_XPWaKk"
      },
      "source": [
        "Given an arraylist A of string type which has name#mark1#mark2#mark3 format. Retrieve the name of the student who has scored max marks(total of three).\n",
        "\n",
        "for eg: \n",
        "input: {'arun#12#12#12','deepak#13#12#12'}\n",
        "\n",
        "output: Deepak\n",
        "\n",
        "Input Size : A <= 100000\n",
        "\n",
        "Sample Testcase :\n",
        "\n",
        "INPUT\n",
        "\n",
        "arun#12#12#12\n",
        "\n",
        "deepak#13#12#12\n",
        "\n",
        "OUTPUT\n",
        "\n",
        "deepak"
      ]
    },
    {
      "cell_type": "code",
      "execution_count": null,
      "metadata": {
        "id": "tUVCZ4v1W0U7"
      },
      "outputs": [],
      "source": [
        "s1=input().split('#')\n",
        "s2=input().split('#')\n",
        "\n",
        "s1_marks=list(map(int,s1[1:]))\n",
        "s2_marks=list(map(int,s2[1:]))\n",
        "\n",
        "s1_total=0\n",
        "s2_total=0\n",
        "\n",
        "for x in s1_marks:\n",
        "    s1_total=s1_total+x\n",
        "\n",
        "for x in s2_marks:\n",
        "    s2_total=s2_total+x\n",
        "\n",
        "print(s1[0]) if s1_total>s2_total else print(s2[0])"
      ]
    }
  ],
  "metadata": {
    "colab": {
      "collapsed_sections": [
        "BgP5Hk4flSm6",
        "YNwgJBXt9WDF",
        "_L6c_5kHAyou",
        "PFeJ6NkEKKQF",
        "i-vy6pRNLbHl",
        "rdCw0EEpBRCl",
        "4JHvJ8p2Hy3L"
      ],
      "provenance": []
    },
    "kernelspec": {
      "display_name": "Python 3",
      "name": "python3"
    },
    "language_info": {
      "name": "python"
    }
  },
  "nbformat": 4,
  "nbformat_minor": 0
}
